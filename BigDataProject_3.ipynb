{
  "cells": [
    {
      "cell_type": "code",
      "execution_count": 1,
      "metadata": {
        "colab": {
          "base_uri": "https://localhost:8080/"
        },
        "id": "lDmosBDQ1kaJ",
        "outputId": "c994f75f-fe73-47fa-b589-eaee3102efff"
      },
      "outputs": [
        {
          "output_type": "stream",
          "name": "stdout",
          "text": [
            "Looking in indexes: https://pypi.org/simple, https://us-python.pkg.dev/colab-wheels/public/simple/\n",
            "Collecting pyspark\n",
            "  Downloading pyspark-3.4.0.tar.gz (310.8 MB)\n",
            "\u001b[2K     \u001b[90m━━━━━━━━━━━━━━━━━━━━━━━━━━━━━━━━━━━━━━━\u001b[0m \u001b[32m310.8/310.8 MB\u001b[0m \u001b[31m2.6 MB/s\u001b[0m eta \u001b[36m0:00:00\u001b[0m\n",
            "\u001b[?25h  Preparing metadata (setup.py) ... \u001b[?25l\u001b[?25hdone\n",
            "Requirement already satisfied: py4j==0.10.9.7 in /usr/local/lib/python3.10/dist-packages (from pyspark) (0.10.9.7)\n",
            "Building wheels for collected packages: pyspark\n",
            "  Building wheel for pyspark (setup.py) ... \u001b[?25l\u001b[?25hdone\n",
            "  Created wheel for pyspark: filename=pyspark-3.4.0-py2.py3-none-any.whl size=311317145 sha256=487a4a11fc9094df763accfe005e5f71e185e26edd0fe952f9eacda4ac9e577d\n",
            "  Stored in directory: /root/.cache/pip/wheels/7b/1b/4b/3363a1d04368e7ff0d408e57ff57966fcdf00583774e761327\n",
            "Successfully built pyspark\n",
            "Installing collected packages: pyspark\n",
            "Successfully installed pyspark-3.4.0\n"
          ]
        }
      ],
      "source": [
        "!pip3 install pyspark"
      ]
    },
    {
      "cell_type": "code",
      "execution_count": 2,
      "metadata": {
        "colab": {
          "base_uri": "https://localhost:8080/",
          "height": 73
        },
        "id": "Agy1oRlM61le",
        "outputId": "081ab5c2-5685-498c-91e0-3778bbd72c17"
      },
      "outputs": [
        {
          "output_type": "display_data",
          "data": {
            "text/plain": [
              "<IPython.core.display.HTML object>"
            ],
            "text/html": [
              "\n",
              "     <input type=\"file\" id=\"files-f6f6e191-b9ef-4afa-93bd-31c51c7b963d\" name=\"files[]\" multiple disabled\n",
              "        style=\"border:none\" />\n",
              "     <output id=\"result-f6f6e191-b9ef-4afa-93bd-31c51c7b963d\">\n",
              "      Upload widget is only available when the cell has been executed in the\n",
              "      current browser session. Please rerun this cell to enable.\n",
              "      </output>\n",
              "      <script>// Copyright 2017 Google LLC\n",
              "//\n",
              "// Licensed under the Apache License, Version 2.0 (the \"License\");\n",
              "// you may not use this file except in compliance with the License.\n",
              "// You may obtain a copy of the License at\n",
              "//\n",
              "//      http://www.apache.org/licenses/LICENSE-2.0\n",
              "//\n",
              "// Unless required by applicable law or agreed to in writing, software\n",
              "// distributed under the License is distributed on an \"AS IS\" BASIS,\n",
              "// WITHOUT WARRANTIES OR CONDITIONS OF ANY KIND, either express or implied.\n",
              "// See the License for the specific language governing permissions and\n",
              "// limitations under the License.\n",
              "\n",
              "/**\n",
              " * @fileoverview Helpers for google.colab Python module.\n",
              " */\n",
              "(function(scope) {\n",
              "function span(text, styleAttributes = {}) {\n",
              "  const element = document.createElement('span');\n",
              "  element.textContent = text;\n",
              "  for (const key of Object.keys(styleAttributes)) {\n",
              "    element.style[key] = styleAttributes[key];\n",
              "  }\n",
              "  return element;\n",
              "}\n",
              "\n",
              "// Max number of bytes which will be uploaded at a time.\n",
              "const MAX_PAYLOAD_SIZE = 100 * 1024;\n",
              "\n",
              "function _uploadFiles(inputId, outputId) {\n",
              "  const steps = uploadFilesStep(inputId, outputId);\n",
              "  const outputElement = document.getElementById(outputId);\n",
              "  // Cache steps on the outputElement to make it available for the next call\n",
              "  // to uploadFilesContinue from Python.\n",
              "  outputElement.steps = steps;\n",
              "\n",
              "  return _uploadFilesContinue(outputId);\n",
              "}\n",
              "\n",
              "// This is roughly an async generator (not supported in the browser yet),\n",
              "// where there are multiple asynchronous steps and the Python side is going\n",
              "// to poll for completion of each step.\n",
              "// This uses a Promise to block the python side on completion of each step,\n",
              "// then passes the result of the previous step as the input to the next step.\n",
              "function _uploadFilesContinue(outputId) {\n",
              "  const outputElement = document.getElementById(outputId);\n",
              "  const steps = outputElement.steps;\n",
              "\n",
              "  const next = steps.next(outputElement.lastPromiseValue);\n",
              "  return Promise.resolve(next.value.promise).then((value) => {\n",
              "    // Cache the last promise value to make it available to the next\n",
              "    // step of the generator.\n",
              "    outputElement.lastPromiseValue = value;\n",
              "    return next.value.response;\n",
              "  });\n",
              "}\n",
              "\n",
              "/**\n",
              " * Generator function which is called between each async step of the upload\n",
              " * process.\n",
              " * @param {string} inputId Element ID of the input file picker element.\n",
              " * @param {string} outputId Element ID of the output display.\n",
              " * @return {!Iterable<!Object>} Iterable of next steps.\n",
              " */\n",
              "function* uploadFilesStep(inputId, outputId) {\n",
              "  const inputElement = document.getElementById(inputId);\n",
              "  inputElement.disabled = false;\n",
              "\n",
              "  const outputElement = document.getElementById(outputId);\n",
              "  outputElement.innerHTML = '';\n",
              "\n",
              "  const pickedPromise = new Promise((resolve) => {\n",
              "    inputElement.addEventListener('change', (e) => {\n",
              "      resolve(e.target.files);\n",
              "    });\n",
              "  });\n",
              "\n",
              "  const cancel = document.createElement('button');\n",
              "  inputElement.parentElement.appendChild(cancel);\n",
              "  cancel.textContent = 'Cancel upload';\n",
              "  const cancelPromise = new Promise((resolve) => {\n",
              "    cancel.onclick = () => {\n",
              "      resolve(null);\n",
              "    };\n",
              "  });\n",
              "\n",
              "  // Wait for the user to pick the files.\n",
              "  const files = yield {\n",
              "    promise: Promise.race([pickedPromise, cancelPromise]),\n",
              "    response: {\n",
              "      action: 'starting',\n",
              "    }\n",
              "  };\n",
              "\n",
              "  cancel.remove();\n",
              "\n",
              "  // Disable the input element since further picks are not allowed.\n",
              "  inputElement.disabled = true;\n",
              "\n",
              "  if (!files) {\n",
              "    return {\n",
              "      response: {\n",
              "        action: 'complete',\n",
              "      }\n",
              "    };\n",
              "  }\n",
              "\n",
              "  for (const file of files) {\n",
              "    const li = document.createElement('li');\n",
              "    li.append(span(file.name, {fontWeight: 'bold'}));\n",
              "    li.append(span(\n",
              "        `(${file.type || 'n/a'}) - ${file.size} bytes, ` +\n",
              "        `last modified: ${\n",
              "            file.lastModifiedDate ? file.lastModifiedDate.toLocaleDateString() :\n",
              "                                    'n/a'} - `));\n",
              "    const percent = span('0% done');\n",
              "    li.appendChild(percent);\n",
              "\n",
              "    outputElement.appendChild(li);\n",
              "\n",
              "    const fileDataPromise = new Promise((resolve) => {\n",
              "      const reader = new FileReader();\n",
              "      reader.onload = (e) => {\n",
              "        resolve(e.target.result);\n",
              "      };\n",
              "      reader.readAsArrayBuffer(file);\n",
              "    });\n",
              "    // Wait for the data to be ready.\n",
              "    let fileData = yield {\n",
              "      promise: fileDataPromise,\n",
              "      response: {\n",
              "        action: 'continue',\n",
              "      }\n",
              "    };\n",
              "\n",
              "    // Use a chunked sending to avoid message size limits. See b/62115660.\n",
              "    let position = 0;\n",
              "    do {\n",
              "      const length = Math.min(fileData.byteLength - position, MAX_PAYLOAD_SIZE);\n",
              "      const chunk = new Uint8Array(fileData, position, length);\n",
              "      position += length;\n",
              "\n",
              "      const base64 = btoa(String.fromCharCode.apply(null, chunk));\n",
              "      yield {\n",
              "        response: {\n",
              "          action: 'append',\n",
              "          file: file.name,\n",
              "          data: base64,\n",
              "        },\n",
              "      };\n",
              "\n",
              "      let percentDone = fileData.byteLength === 0 ?\n",
              "          100 :\n",
              "          Math.round((position / fileData.byteLength) * 100);\n",
              "      percent.textContent = `${percentDone}% done`;\n",
              "\n",
              "    } while (position < fileData.byteLength);\n",
              "  }\n",
              "\n",
              "  // All done.\n",
              "  yield {\n",
              "    response: {\n",
              "      action: 'complete',\n",
              "    }\n",
              "  };\n",
              "}\n",
              "\n",
              "scope.google = scope.google || {};\n",
              "scope.google.colab = scope.google.colab || {};\n",
              "scope.google.colab._files = {\n",
              "  _uploadFiles,\n",
              "  _uploadFilesContinue,\n",
              "};\n",
              "})(self);\n",
              "</script> "
            ]
          },
          "metadata": {}
        },
        {
          "output_type": "stream",
          "name": "stdout",
          "text": [
            "Saving job_postings.csv to job_postings.csv\n"
          ]
        }
      ],
      "source": [
        "from google.colab import files\n",
        "uploaded = files.upload()"
      ]
    },
    {
      "cell_type": "code",
      "execution_count": 3,
      "metadata": {
        "colab": {
          "base_uri": "https://localhost:8080/"
        },
        "id": "Rf4bpqAf0iYG",
        "outputId": "be9e61df-fd05-4f4f-9c34-b2c743c93c9c"
      },
      "outputs": [
        {
          "output_type": "stream",
          "name": "stdout",
          "text": [
            "Looking in indexes: https://pypi.org/simple, https://us-python.pkg.dev/colab-wheels/public/simple/\n",
            "Requirement already satisfied: nltk in /usr/local/lib/python3.10/dist-packages (3.8.1)\n",
            "Requirement already satisfied: regex>=2021.8.3 in /usr/local/lib/python3.10/dist-packages (from nltk) (2022.10.31)\n",
            "Requirement already satisfied: tqdm in /usr/local/lib/python3.10/dist-packages (from nltk) (4.65.0)\n",
            "Requirement already satisfied: click in /usr/local/lib/python3.10/dist-packages (from nltk) (8.1.3)\n",
            "Requirement already satisfied: joblib in /usr/local/lib/python3.10/dist-packages (from nltk) (1.2.0)\n",
            "2023-05-06 16:08:37.111503: I tensorflow/core/platform/cpu_feature_guard.cc:182] This TensorFlow binary is optimized to use available CPU instructions in performance-critical operations.\n",
            "To enable the following instructions: AVX2 FMA, in other operations, rebuild TensorFlow with the appropriate compiler flags.\n",
            "2023-05-06 16:08:39.186647: W tensorflow/compiler/tf2tensorrt/utils/py_utils.cc:38] TF-TRT Warning: Could not find TensorRT\n",
            "Looking in indexes: https://pypi.org/simple, https://us-python.pkg.dev/colab-wheels/public/simple/\n",
            "Collecting en-core-web-md==3.5.0\n",
            "  Downloading https://github.com/explosion/spacy-models/releases/download/en_core_web_md-3.5.0/en_core_web_md-3.5.0-py3-none-any.whl (42.8 MB)\n",
            "\u001b[2K     \u001b[90m━━━━━━━━━━━━━━━━━━━━━━━━━━━━━━━━━━━━━━━━\u001b[0m \u001b[32m42.8/42.8 MB\u001b[0m \u001b[31m17.5 MB/s\u001b[0m eta \u001b[36m0:00:00\u001b[0m\n",
            "\u001b[?25hRequirement already satisfied: spacy<3.6.0,>=3.5.0 in /usr/local/lib/python3.10/dist-packages (from en-core-web-md==3.5.0) (3.5.2)\n",
            "Requirement already satisfied: tqdm<5.0.0,>=4.38.0 in /usr/local/lib/python3.10/dist-packages (from spacy<3.6.0,>=3.5.0->en-core-web-md==3.5.0) (4.65.0)\n",
            "Requirement already satisfied: pathy>=0.10.0 in /usr/local/lib/python3.10/dist-packages (from spacy<3.6.0,>=3.5.0->en-core-web-md==3.5.0) (0.10.1)\n",
            "Requirement already satisfied: thinc<8.2.0,>=8.1.8 in /usr/local/lib/python3.10/dist-packages (from spacy<3.6.0,>=3.5.0->en-core-web-md==3.5.0) (8.1.9)\n",
            "Requirement already satisfied: spacy-loggers<2.0.0,>=1.0.0 in /usr/local/lib/python3.10/dist-packages (from spacy<3.6.0,>=3.5.0->en-core-web-md==3.5.0) (1.0.4)\n",
            "Requirement already satisfied: typer<0.8.0,>=0.3.0 in /usr/local/lib/python3.10/dist-packages (from spacy<3.6.0,>=3.5.0->en-core-web-md==3.5.0) (0.7.0)\n",
            "Requirement already satisfied: packaging>=20.0 in /usr/local/lib/python3.10/dist-packages (from spacy<3.6.0,>=3.5.0->en-core-web-md==3.5.0) (23.1)\n",
            "Requirement already satisfied: langcodes<4.0.0,>=3.2.0 in /usr/local/lib/python3.10/dist-packages (from spacy<3.6.0,>=3.5.0->en-core-web-md==3.5.0) (3.3.0)\n",
            "Requirement already satisfied: smart-open<7.0.0,>=5.2.1 in /usr/local/lib/python3.10/dist-packages (from spacy<3.6.0,>=3.5.0->en-core-web-md==3.5.0) (6.3.0)\n",
            "Requirement already satisfied: wasabi<1.2.0,>=0.9.1 in /usr/local/lib/python3.10/dist-packages (from spacy<3.6.0,>=3.5.0->en-core-web-md==3.5.0) (1.1.1)\n",
            "Requirement already satisfied: catalogue<2.1.0,>=2.0.6 in /usr/local/lib/python3.10/dist-packages (from spacy<3.6.0,>=3.5.0->en-core-web-md==3.5.0) (2.0.8)\n",
            "Requirement already satisfied: setuptools in /usr/local/lib/python3.10/dist-packages (from spacy<3.6.0,>=3.5.0->en-core-web-md==3.5.0) (67.7.2)\n",
            "Requirement already satisfied: srsly<3.0.0,>=2.4.3 in /usr/local/lib/python3.10/dist-packages (from spacy<3.6.0,>=3.5.0->en-core-web-md==3.5.0) (2.4.6)\n",
            "Requirement already satisfied: preshed<3.1.0,>=3.0.2 in /usr/local/lib/python3.10/dist-packages (from spacy<3.6.0,>=3.5.0->en-core-web-md==3.5.0) (3.0.8)\n",
            "Requirement already satisfied: numpy>=1.15.0 in /usr/local/lib/python3.10/dist-packages (from spacy<3.6.0,>=3.5.0->en-core-web-md==3.5.0) (1.22.4)\n",
            "Requirement already satisfied: jinja2 in /usr/local/lib/python3.10/dist-packages (from spacy<3.6.0,>=3.5.0->en-core-web-md==3.5.0) (3.1.2)\n",
            "Requirement already satisfied: spacy-legacy<3.1.0,>=3.0.11 in /usr/local/lib/python3.10/dist-packages (from spacy<3.6.0,>=3.5.0->en-core-web-md==3.5.0) (3.0.12)\n",
            "Requirement already satisfied: cymem<2.1.0,>=2.0.2 in /usr/local/lib/python3.10/dist-packages (from spacy<3.6.0,>=3.5.0->en-core-web-md==3.5.0) (2.0.7)\n",
            "Requirement already satisfied: pydantic!=1.8,!=1.8.1,<1.11.0,>=1.7.4 in /usr/local/lib/python3.10/dist-packages (from spacy<3.6.0,>=3.5.0->en-core-web-md==3.5.0) (1.10.7)\n",
            "Requirement already satisfied: murmurhash<1.1.0,>=0.28.0 in /usr/local/lib/python3.10/dist-packages (from spacy<3.6.0,>=3.5.0->en-core-web-md==3.5.0) (1.0.9)\n",
            "Requirement already satisfied: requests<3.0.0,>=2.13.0 in /usr/local/lib/python3.10/dist-packages (from spacy<3.6.0,>=3.5.0->en-core-web-md==3.5.0) (2.27.1)\n",
            "Requirement already satisfied: typing-extensions>=4.2.0 in /usr/local/lib/python3.10/dist-packages (from pydantic!=1.8,!=1.8.1,<1.11.0,>=1.7.4->spacy<3.6.0,>=3.5.0->en-core-web-md==3.5.0) (4.5.0)\n",
            "Requirement already satisfied: certifi>=2017.4.17 in /usr/local/lib/python3.10/dist-packages (from requests<3.0.0,>=2.13.0->spacy<3.6.0,>=3.5.0->en-core-web-md==3.5.0) (2022.12.7)\n",
            "Requirement already satisfied: urllib3<1.27,>=1.21.1 in /usr/local/lib/python3.10/dist-packages (from requests<3.0.0,>=2.13.0->spacy<3.6.0,>=3.5.0->en-core-web-md==3.5.0) (1.26.15)\n",
            "Requirement already satisfied: charset-normalizer~=2.0.0 in /usr/local/lib/python3.10/dist-packages (from requests<3.0.0,>=2.13.0->spacy<3.6.0,>=3.5.0->en-core-web-md==3.5.0) (2.0.12)\n",
            "Requirement already satisfied: idna<4,>=2.5 in /usr/local/lib/python3.10/dist-packages (from requests<3.0.0,>=2.13.0->spacy<3.6.0,>=3.5.0->en-core-web-md==3.5.0) (3.4)\n",
            "Requirement already satisfied: blis<0.8.0,>=0.7.8 in /usr/local/lib/python3.10/dist-packages (from thinc<8.2.0,>=8.1.8->spacy<3.6.0,>=3.5.0->en-core-web-md==3.5.0) (0.7.9)\n",
            "Requirement already satisfied: confection<1.0.0,>=0.0.1 in /usr/local/lib/python3.10/dist-packages (from thinc<8.2.0,>=8.1.8->spacy<3.6.0,>=3.5.0->en-core-web-md==3.5.0) (0.0.4)\n",
            "Requirement already satisfied: click<9.0.0,>=7.1.1 in /usr/local/lib/python3.10/dist-packages (from typer<0.8.0,>=0.3.0->spacy<3.6.0,>=3.5.0->en-core-web-md==3.5.0) (8.1.3)\n",
            "Requirement already satisfied: MarkupSafe>=2.0 in /usr/local/lib/python3.10/dist-packages (from jinja2->spacy<3.6.0,>=3.5.0->en-core-web-md==3.5.0) (2.1.2)\n",
            "Installing collected packages: en-core-web-md\n",
            "Successfully installed en-core-web-md-3.5.0\n",
            "\u001b[38;5;2m✔ Download and installation successful\u001b[0m\n",
            "You can now load the package via spacy.load('en_core_web_md')\n"
          ]
        },
        {
          "output_type": "stream",
          "name": "stderr",
          "text": [
            "[nltk_data] Downloading package punkt to /root/nltk_data...\n",
            "[nltk_data]   Unzipping tokenizers/punkt.zip.\n",
            "[nltk_data] Downloading package stopwords to /root/nltk_data...\n",
            "[nltk_data]   Unzipping corpora/stopwords.zip.\n"
          ]
        },
        {
          "output_type": "execute_result",
          "data": {
            "text/plain": [
              "True"
            ]
          },
          "metadata": {},
          "execution_count": 3
        }
      ],
      "source": [
        "import os\n",
        "import pyspark\n",
        "!pip3 install nltk\n",
        "!python -m spacy download en_core_web_md \n",
        "import nltk\n",
        "nltk.download('punkt')\n",
        "nltk.download('stopwords')"
      ]
    },
    {
      "cell_type": "code",
      "execution_count": 4,
      "metadata": {
        "colab": {
          "base_uri": "https://localhost:8080/"
        },
        "id": "rmCxpW7GYVYK",
        "outputId": "130c881f-be13-49e1-e6c8-6e369a9c5ecb"
      },
      "outputs": [
        {
          "output_type": "stream",
          "name": "stdout",
          "text": [
            "Looking in indexes: https://pypi.org/simple, https://us-python.pkg.dev/colab-wheels/public/simple/\n",
            "Collecting graphframes\n",
            "  Downloading graphframes-0.6-py2.py3-none-any.whl (18 kB)\n",
            "Collecting nose\n",
            "  Downloading nose-1.3.7-py3-none-any.whl (154 kB)\n",
            "\u001b[2K     \u001b[90m━━━━━━━━━━━━━━━━━━━━━━━━━━━━━━━━━━━━━━━\u001b[0m \u001b[32m154.7/154.7 kB\u001b[0m \u001b[31m4.8 MB/s\u001b[0m eta \u001b[36m0:00:00\u001b[0m\n",
            "\u001b[?25hRequirement already satisfied: numpy in /usr/local/lib/python3.10/dist-packages (from graphframes) (1.22.4)\n",
            "Installing collected packages: nose, graphframes\n",
            "Successfully installed graphframes-0.6 nose-1.3.7\n",
            "  % Total    % Received % Xferd  Average Speed   Time    Time     Time  Current\n",
            "                                 Dload  Upload   Total   Spent    Left  Speed\n",
            "100   164  100   164    0     0   2342      0 --:--:-- --:--:-- --:--:--  2309\n",
            "100   146  100   146    0     0    802      0 --:--:-- --:--:-- --:--:--   802\n"
          ]
        }
      ],
      "source": [
        "!pip install graphframes\n",
        "!curl -L -o \"/usr/local/lib/python3.10/dist-packages/pyspark/jars/graphframes-0.8.2-spark3.2-s_2.12.jar\" http://dl.bintray.com/spark-packages/maven/graphframes/graphframes/0.8.2-spark3.2-s_2.12/graphframes-0.8.2-spark3.2-s_2.12.jar"
      ]
    },
    {
      "cell_type": "code",
      "execution_count": 5,
      "metadata": {
        "colab": {
          "base_uri": "https://localhost:8080/"
        },
        "id": "I_mjOLnz2GfS",
        "outputId": "49e4c9b1-be58-45b2-eab7-0aac53632354"
      },
      "outputs": [
        {
          "output_type": "execute_result",
          "data": {
            "text/plain": [
              "<pyspark.conf.SparkConf at 0x7f432e9e69e0>"
            ]
          },
          "metadata": {},
          "execution_count": 5
        }
      ],
      "source": [
        "conf = pyspark.SparkConf()\n",
        "conf.set('spark.sql.repl.eagerEval.enabled',True)\n",
        "conf.set('spark.driver.memory', '4g')\n",
        "conf.set(\"spark.jars.packages\", \"graphframes:graphframes:0.8.2-spark3.2-s_2.12\")"
      ]
    },
    {
      "cell_type": "code",
      "execution_count": 6,
      "metadata": {
        "colab": {
          "base_uri": "https://localhost:8080/",
          "height": 219
        },
        "id": "z85_xcT02YnC",
        "outputId": "d83c93b0-16ac-439b-e1ce-a482d34d3ff4"
      },
      "outputs": [
        {
          "output_type": "execute_result",
          "data": {
            "text/plain": [
              "<pyspark.sql.session.SparkSession at 0x7f4301f863e0>"
            ],
            "text/html": [
              "\n",
              "            <div>\n",
              "                <p><b>SparkSession - in-memory</b></p>\n",
              "                \n",
              "        <div>\n",
              "            <p><b>SparkContext</b></p>\n",
              "\n",
              "            <p><a href=\"http://5365d35632c3:4040\">Spark UI</a></p>\n",
              "\n",
              "            <dl>\n",
              "              <dt>Version</dt>\n",
              "                <dd><code>v3.4.0</code></dd>\n",
              "              <dt>Master</dt>\n",
              "                <dd><code>local[*]</code></dd>\n",
              "              <dt>AppName</dt>\n",
              "                <dd><code>pyspark-shell</code></dd>\n",
              "            </dl>\n",
              "        </div>\n",
              "        \n",
              "            </div>\n",
              "        "
            ]
          },
          "metadata": {},
          "execution_count": 6
        }
      ],
      "source": [
        "sc = pyspark.SparkContext(conf=conf)\n",
        "spark = pyspark.sql.SparkSession(sc)\n",
        "spark\n"
      ]
    },
    {
      "cell_type": "code",
      "execution_count": 7,
      "metadata": {
        "id": "n7AvF2kc2nIm"
      },
      "outputs": [],
      "source": [
        "df = spark.read.option(\"inferSchema\",\"true\").option(\"header\",\"true\").option(\"quote\", '\"').option(\"escape\", \"\\\\\").option(\"escape\", '\"').option(\"sep\",\",\").option(\"multiLine\", \"true\").csv(\"job_postings.csv\")"
      ]
    },
    {
      "cell_type": "code",
      "execution_count": 8,
      "metadata": {
        "id": "QmJbipuf-XEG"
      },
      "outputs": [],
      "source": [
        "from pyspark.sql.functions import regexp_replace, lower, col"
      ]
    },
    {
      "cell_type": "code",
      "execution_count": 9,
      "metadata": {
        "id": "qdMkvXts-Zzt"
      },
      "outputs": [],
      "source": [
        "df = df.select(\"Job Title\", \"Job Description\", \"City\", \"State\", \"Zip Code\", \"Company Name\", \"Uniq Id\").limit(100)"
      ]
    },
    {
      "cell_type": "code",
      "execution_count": 10,
      "metadata": {
        "colab": {
          "base_uri": "https://localhost:8080/",
          "height": 520
        },
        "id": "h2zxbDBQ-fgF",
        "outputId": "a360e613-a7c8-4818-d34d-660321fc43d6"
      },
      "outputs": [
        {
          "output_type": "execute_result",
          "data": {
            "text/plain": [
              "+--------------------+--------------------+-------------+-----+--------+--------------------+--------------------+--------------------+\n",
              "|           Job Title|     Job Description|         City|State|Zip Code|        Company Name|             Uniq Id|         description|\n",
              "+--------------------+--------------------+-------------+-----+--------+--------------------+--------------------+--------------------+\n",
              "|       Shift Manager|<div id=\"jobDescr...|Mission Hills|   CA|   91345|        Del Taco LLC|511f9a53920f4641d...|WE ARE LOOKING FO...|\n",
              "|Operations Suppor...|<div id=\"jobDescr...|      Atlanta|   GA|   30342|        FOCUS Brands|4955daf0a3facbe2a...|\\n\\nJOB PURPOSE: ...|\n",
              "|Senior Product Ma...|<div id=\"jobDescr...|      Chicago|   IL|    null|               Vibes|a0e0d12df1571962b...|Product Manager -...|\n",
              "|Part-Time Office ...|<div id=\"jobDescr...|       Festus|   MO|    null|Coldwell Banker R...|56e411fd731f76ac9...|\\nColdwell Banker...|\n",
              "|Print & Marketing...|<div id=\"jobDescr...| Cedar Rapids|   IA|   52404|      Staples Stores|3fff5c0ad6981bf4b...|\\nDescription\\nPo...|\n",
              "|Cyber IT Risk & S...|<div id=\"jobDescr...|   Washington|   DC|   20003|            Deloitte|3fcf91a3e406f0727...|\\n\\n\\nAs a Cyber ...|\n",
              "|Sales Associate, ...|<div id=\"jobDescr...|  Eastanollee|   GA|   30538|GNC - General Nut...|9e23f19b5e9502a49...|\\n\\nGNC is lookin...|\n",
              "|Home Lending Bran...|<div id=\"jobDescr...|      Spokane|   WA|   99201|         Umpqua Bank|f570dac5fa316794e...|\\nJOB PURPOSE\\n\\n...|\n",
              "|Property Manager ...|<div id=\"jobDescr...|       Durham|   NC|    null|  PRG Real Estate PA|219550967b49d887a...|\\nOverview\\n\\n\\n\\...|\n",
              "|Compliance Specia...|<div id=\"jobDescr...|      Chicago|   IL|    null|                 GTI|de5578ef740fbf9c6...|\\n\\nAbout Green T...|\n",
              "|Sr. Copywriter - ...|<div id=\"jobDescr...|     New York|   NY|   10005|              Clutch|7ce7f84570a447126...|\\nCLUTCH is looki...|\n",
              "|Photo Booth Produ...|<div id=\"jobDescr...|   Sacramento|   CA|    null|The Photo Booth S...|ee81ae04ff9bc61f9...|\\nOur SMF team is...|\n",
              "|Sales Associate/B...|<div id=\"jobDescr...|      Roanoke|   TX|   76262|Sally Beauty Supp...|793397447e8e4e1d3...|By working at Sal...|\n",
              "|Prog Cost/Sched C...|<div id=\"jobDescr...|       Folsom|   CA|    null|     L3 Technologies|4cec79e63ab928ee7...|\\n\\n\\nL3Harris is...|\n",
              "|Tax Preparer I St...|<div id=\"jobDescr...|  Forest Park|   GA|   30297|Jackson Hewitt Ta...|2cad8c0d5f7ae7a7f...|\\n\\n\\nAt Jackson ...|\n",
              "|Senior Software E...|<div id=\"jobDescr...|    Sandpoint|   ID|   83864|             Kochava|257be205f6302c2b3...|\\n\\nKochava build...|\n",
              "|Internet Sales As...|<div id=\"jobDescr...|Milledgeville|   GA|    null|    Five Star Toyota|626974b0274beb4c2...|Founded in 1986, ...|\n",
              "|Sales Associate/B...|<div id=\"jobDescr...| Jacksonville|   FL|   32205|Sally Beauty Supp...|0c65111509af1dc39...|By working at Sal...|\n",
              "|Business Analyst ...|<div id=\"jobDescr...|     New York|   NY|   10036|           Capgemini|4e998e47943f4d111...|\\n\\n\\n\\nBusiness ...|\n",
              "|Omni-Channel Asso...|<div id=\"jobDescr...|       Bangor|   ME|   04401|            JCPenney|200c0cb7eb69d1792...|\\n\\n\\nAs the Omni...|\n",
              "+--------------------+--------------------+-------------+-----+--------+--------------------+--------------------+--------------------+\n",
              "only showing top 20 rows"
            ],
            "text/html": [
              "<table border='1'>\n",
              "<tr><th>Job Title</th><th>Job Description</th><th>City</th><th>State</th><th>Zip Code</th><th>Company Name</th><th>Uniq Id</th><th>description</th></tr>\n",
              "<tr><td>Shift Manager</td><td>&lt;div id=&quot;jobDescr...</td><td>Mission Hills</td><td>CA</td><td>91345</td><td>Del Taco LLC</td><td>511f9a53920f4641d...</td><td>WE ARE LOOKING FO...</td></tr>\n",
              "<tr><td>Operations Suppor...</td><td>&lt;div id=&quot;jobDescr...</td><td>Atlanta</td><td>GA</td><td>30342</td><td>FOCUS Brands</td><td>4955daf0a3facbe2a...</td><td>\\n\\nJOB PURPOSE: ...</td></tr>\n",
              "<tr><td>Senior Product Ma...</td><td>&lt;div id=&quot;jobDescr...</td><td>Chicago</td><td>IL</td><td>null</td><td>Vibes</td><td>a0e0d12df1571962b...</td><td>Product Manager -...</td></tr>\n",
              "<tr><td>Part-Time Office ...</td><td>&lt;div id=&quot;jobDescr...</td><td>Festus</td><td>MO</td><td>null</td><td>Coldwell Banker R...</td><td>56e411fd731f76ac9...</td><td>\\nColdwell Banker...</td></tr>\n",
              "<tr><td>Print &amp; Marketing...</td><td>&lt;div id=&quot;jobDescr...</td><td>Cedar Rapids</td><td>IA</td><td>52404</td><td>Staples Stores</td><td>3fff5c0ad6981bf4b...</td><td>\\nDescription\\nPo...</td></tr>\n",
              "<tr><td>Cyber IT Risk &amp; S...</td><td>&lt;div id=&quot;jobDescr...</td><td>Washington</td><td>DC</td><td>20003</td><td>Deloitte</td><td>3fcf91a3e406f0727...</td><td>\\n\\n\\nAs a Cyber ...</td></tr>\n",
              "<tr><td>Sales Associate, ...</td><td>&lt;div id=&quot;jobDescr...</td><td>Eastanollee</td><td>GA</td><td>30538</td><td>GNC - General Nut...</td><td>9e23f19b5e9502a49...</td><td>\\n\\nGNC is lookin...</td></tr>\n",
              "<tr><td>Home Lending Bran...</td><td>&lt;div id=&quot;jobDescr...</td><td>Spokane</td><td>WA</td><td>99201</td><td>Umpqua Bank</td><td>f570dac5fa316794e...</td><td>\\nJOB PURPOSE\\n\\n...</td></tr>\n",
              "<tr><td>Property Manager ...</td><td>&lt;div id=&quot;jobDescr...</td><td>Durham</td><td>NC</td><td>null</td><td>PRG Real Estate PA</td><td>219550967b49d887a...</td><td>\\nOverview\\n\\n\\n\\...</td></tr>\n",
              "<tr><td>Compliance Specia...</td><td>&lt;div id=&quot;jobDescr...</td><td>Chicago</td><td>IL</td><td>null</td><td>GTI</td><td>de5578ef740fbf9c6...</td><td>\\n\\nAbout Green T...</td></tr>\n",
              "<tr><td>Sr. Copywriter - ...</td><td>&lt;div id=&quot;jobDescr...</td><td>New York</td><td>NY</td><td>10005</td><td>Clutch</td><td>7ce7f84570a447126...</td><td>\\nCLUTCH is looki...</td></tr>\n",
              "<tr><td>Photo Booth Produ...</td><td>&lt;div id=&quot;jobDescr...</td><td>Sacramento</td><td>CA</td><td>null</td><td>The Photo Booth S...</td><td>ee81ae04ff9bc61f9...</td><td>\\nOur SMF team is...</td></tr>\n",
              "<tr><td>Sales Associate/B...</td><td>&lt;div id=&quot;jobDescr...</td><td>Roanoke</td><td>TX</td><td>76262</td><td>Sally Beauty Supp...</td><td>793397447e8e4e1d3...</td><td>By working at Sal...</td></tr>\n",
              "<tr><td>Prog Cost/Sched C...</td><td>&lt;div id=&quot;jobDescr...</td><td>Folsom</td><td>CA</td><td>null</td><td>L3 Technologies</td><td>4cec79e63ab928ee7...</td><td>\\n\\n\\nL3Harris is...</td></tr>\n",
              "<tr><td>Tax Preparer I St...</td><td>&lt;div id=&quot;jobDescr...</td><td>Forest Park</td><td>GA</td><td>30297</td><td>Jackson Hewitt Ta...</td><td>2cad8c0d5f7ae7a7f...</td><td>\\n\\n\\nAt Jackson ...</td></tr>\n",
              "<tr><td>Senior Software E...</td><td>&lt;div id=&quot;jobDescr...</td><td>Sandpoint</td><td>ID</td><td>83864</td><td>Kochava</td><td>257be205f6302c2b3...</td><td>\\n\\nKochava build...</td></tr>\n",
              "<tr><td>Internet Sales As...</td><td>&lt;div id=&quot;jobDescr...</td><td>Milledgeville</td><td>GA</td><td>null</td><td>Five Star Toyota</td><td>626974b0274beb4c2...</td><td>Founded in 1986, ...</td></tr>\n",
              "<tr><td>Sales Associate/B...</td><td>&lt;div id=&quot;jobDescr...</td><td>Jacksonville</td><td>FL</td><td>32205</td><td>Sally Beauty Supp...</td><td>0c65111509af1dc39...</td><td>By working at Sal...</td></tr>\n",
              "<tr><td>Business Analyst ...</td><td>&lt;div id=&quot;jobDescr...</td><td>New York</td><td>NY</td><td>10036</td><td>Capgemini</td><td>4e998e47943f4d111...</td><td>\\n\\n\\n\\nBusiness ...</td></tr>\n",
              "<tr><td>Omni-Channel Asso...</td><td>&lt;div id=&quot;jobDescr...</td><td>Bangor</td><td>ME</td><td>04401</td><td>JCPenney</td><td>200c0cb7eb69d1792...</td><td>\\n\\n\\nAs the Omni...</td></tr>\n",
              "</table>\n",
              "only showing top 20 rows\n"
            ]
          },
          "metadata": {},
          "execution_count": 10
        }
      ],
      "source": [
        "from pyspark.sql.functions import regexp_replace, lower, col\n",
        "\n",
        "df = df.withColumn(\"description\", regexp_replace(df[\"Job Description\"], \"<[^>]*>\", \"\")).withColumn(\"description\", regexp_replace(col(\"description\"),\"/\", \" \"))\n",
        "df\n"
      ]
    },
    {
      "cell_type": "code",
      "execution_count": 12,
      "metadata": {
        "id": "aFkZc_hxlWAL"
      },
      "outputs": [],
      "source": [
        "from pyspark.ml.feature import Tokenizer\n",
        "\n",
        "tokenizer = Tokenizer(inputCol=\"description\", outputCol=\"tokens\")\n",
        "df = tokenizer.transform(df)"
      ]
    },
    {
      "cell_type": "code",
      "execution_count": 13,
      "metadata": {
        "id": "tAvBqGz7lc_K"
      },
      "outputs": [],
      "source": [
        "import re\n",
        "import spacy\n",
        "import nltk\n",
        "from nltk.corpus import stopwords\n",
        "\n",
        "STOPWORDS = set(stopwords.words('english'))\n",
        "\n",
        "def extract_education(tokens):\n",
        "    EDUCATION = [\n",
        "            'BE','B.E.', 'B.E', 'BS', 'B.S', \n",
        "            'ME', 'M.E', 'M.E.', 'MS', 'M.S', \n",
        "            'BTECH', 'B.TECH', 'M.TECH', 'MTECH', \n",
        "            'SSC', 'HSC', 'CBSE', 'ICSE', 'X', 'XII',\n",
        "            'PHD', 'RN' , 'BSN', 'R.N.', 'B.S.N','JD', 'J.D',\n",
        "            \"BACHELOR’S\", \"MASTER’S\", \"ASSOCIATE’S\",\"ASSOCIATES\", \"HIGH\", \"COLLEGE\", \"DEGREE\",\n",
        "            \"BACHELOR'S\", \"MASTER'S\", \"ASSOCIATE'S\",\n",
        "            \"DIPLOMA\", \"BACHELOR\", \"MASTER\", \"DOCTORATE\", \"UNIVERSITY\"\n",
        "        ]\n",
        "    words = [x.strip() for x in tokens]\n",
        "    edu = []\n",
        "    for index, word in enumerate(words):\n",
        "        word = re.sub(r'[?|$|.|!|,]', r'', word)\n",
        "        if word.upper() in EDUCATION and word not in STOPWORDS:\n",
        "            if words[index].upper() == 'HIGH' and index+1 < len(words) and words[index+1].upper() == 'SCHOOL':\n",
        "                edu.append('high school')\n",
        "            elif words[index].upper() == 'HIGH' and index+1 <len(words) and words[index+1].upper() != 'SCHOOL':\n",
        "                continue\n",
        "            else:\n",
        "                edu.append(word)\n",
        "    if len(list(set(edu)))  == 0:\n",
        "      edu.append('Nothing Found')\n",
        "    return list(set(edu))\n"
      ]
    },
    {
      "cell_type": "code",
      "execution_count": 14,
      "metadata": {
        "id": "0IJPTygllsjg"
      },
      "outputs": [],
      "source": [
        "from pyspark.sql.types import ArrayType, StringType\n",
        "from pyspark.sql.functions import udf\n",
        "\n",
        "udfEducation = udf(lambda z: extract_education(z), ArrayType(StringType()))"
      ]
    },
    {
      "cell_type": "code",
      "execution_count": 15,
      "metadata": {
        "colab": {
          "base_uri": "https://localhost:8080/",
          "height": 520
        },
        "id": "i-8puQnblwub",
        "outputId": "15f53f9e-4cad-4fc3-eb22-47dff108fab3"
      },
      "outputs": [
        {
          "output_type": "execute_result",
          "data": {
            "text/plain": [
              "+--------------------+--------------------+-------------+-----+--------+--------------------+--------------------+--------------------+--------------------+--------------------+\n",
              "|           Job Title|     Job Description|         City|State|Zip Code|        Company Name|             Uniq Id|         description|              tokens|           Education|\n",
              "+--------------------+--------------------+-------------+-----+--------+--------------------+--------------------+--------------------+--------------------+--------------------+\n",
              "|       Shift Manager|<div id=\"jobDescr...|Mission Hills|   CA|   91345|        Del Taco LLC|511f9a53920f4641d...|WE ARE LOOKING FO...|[we, are, looking...|[high school, dip...|\n",
              "|Operations Suppor...|<div id=\"jobDescr...|      Atlanta|   GA|   30342|        FOCUS Brands|4955daf0a3facbe2a...|\\n\\nJOB PURPOSE: ...|[, , job, purpose...|     [Nothing Found]|\n",
              "|Senior Product Ma...|<div id=\"jobDescr...|      Chicago|   IL|    null|               Vibes|a0e0d12df1571962b...|Product Manager -...|[product, manager...|     [Nothing Found]|\n",
              "|Part-Time Office ...|<div id=\"jobDescr...|       Festus|   MO|    null|Coldwell Banker R...|56e411fd731f76ac9...|\\nColdwell Banker...|[, coldwell, bank...|[high school, dip...|\n",
              "|Print & Marketing...|<div id=\"jobDescr...| Cedar Rapids|   IA|   52404|      Staples Stores|3fff5c0ad6981bf4b...|\\nDescription\\nPo...|[, description, p...|            [degree]|\n",
              "|Cyber IT Risk & S...|<div id=\"jobDescr...|   Washington|   DC|   20003|            Deloitte|3fcf91a3e406f0727...|\\n\\n\\nAs a Cyber ...|[, , , as, a, cyb...|     [Nothing Found]|\n",
              "|Sales Associate, ...|<div id=\"jobDescr...|  Eastanollee|   GA|   30538|GNC - General Nut...|9e23f19b5e9502a49...|\\n\\nGNC is lookin...|[, , gnc, is, loo...|[associates, high...|\n",
              "|Home Lending Bran...|<div id=\"jobDescr...|      Spokane|   WA|   99201|         Umpqua Bank|f570dac5fa316794e...|\\nJOB PURPOSE\\n\\n...|[, job, purpose, ...|[bachelor's, degree]|\n",
              "|Property Manager ...|<div id=\"jobDescr...|       Durham|   NC|    null|  PRG Real Estate PA|219550967b49d887a...|\\nOverview\\n\\n\\n\\...|[, overview, , , ...|[associates, bach...|\n",
              "|Compliance Specia...|<div id=\"jobDescr...|      Chicago|   IL|    null|                 GTI|de5578ef740fbf9c6...|\\n\\nAbout Green T...|[, , about, green...|[bachelor’s, degree]|\n",
              "|Sr. Copywriter - ...|<div id=\"jobDescr...|     New York|   NY|   10005|              Clutch|7ce7f84570a447126...|\\nCLUTCH is looki...|[, clutch, is, lo...|[bachelor’s, degree]|\n",
              "|Photo Booth Produ...|<div id=\"jobDescr...|   Sacramento|   CA|    null|The Photo Booth S...|ee81ae04ff9bc61f9...|\\nOur SMF team is...|[, our, smf, team...|[high school, col...|\n",
              "|Sales Associate/B...|<div id=\"jobDescr...|      Roanoke|   TX|   76262|Sally Beauty Supp...|793397447e8e4e1d3...|By working at Sal...|[by, working, at,...|     [Nothing Found]|\n",
              "|Prog Cost/Sched C...|<div id=\"jobDescr...|       Folsom|   CA|    null|     L3 Technologies|4cec79e63ab928ee7...|\\n\\n\\nL3Harris is...|[, , , l3harris, ...|[bachelor’s, degree]|\n",
              "|Tax Preparer I St...|<div id=\"jobDescr...|  Forest Park|   GA|   30297|Jackson Hewitt Ta...|2cad8c0d5f7ae7a7f...|\\n\\n\\nAt Jackson ...|[, , , at, jackso...|[high school, deg...|\n",
              "|Senior Software E...|<div id=\"jobDescr...|    Sandpoint|   ID|   83864|             Kochava|257be205f6302c2b3...|\\n\\nKochava build...|[, , kochava, bui...|    [ms, bs, degree]|\n",
              "|Internet Sales As...|<div id=\"jobDescr...|Milledgeville|   GA|    null|    Five Star Toyota|626974b0274beb4c2...|Founded in 1986, ...|[founded, in, 198...|     [Nothing Found]|\n",
              "|Sales Associate/B...|<div id=\"jobDescr...| Jacksonville|   FL|   32205|Sally Beauty Supp...|0c65111509af1dc39...|By working at Sal...|[by, working, at,...|     [Nothing Found]|\n",
              "|Business Analyst ...|<div id=\"jobDescr...|     New York|   NY|   10036|           Capgemini|4e998e47943f4d111...|\\n\\n\\n\\nBusiness ...|[, , , , business...|[bachelor’s, degree]|\n",
              "|Omni-Channel Asso...|<div id=\"jobDescr...|       Bangor|   ME|   04401|            JCPenney|200c0cb7eb69d1792...|\\n\\n\\nAs the Omni...|[, , , as, the, o...|[bachelor, associ...|\n",
              "+--------------------+--------------------+-------------+-----+--------+--------------------+--------------------+--------------------+--------------------+--------------------+\n",
              "only showing top 20 rows"
            ],
            "text/html": [
              "<table border='1'>\n",
              "<tr><th>Job Title</th><th>Job Description</th><th>City</th><th>State</th><th>Zip Code</th><th>Company Name</th><th>Uniq Id</th><th>description</th><th>tokens</th><th>Education</th></tr>\n",
              "<tr><td>Shift Manager</td><td>&lt;div id=&quot;jobDescr...</td><td>Mission Hills</td><td>CA</td><td>91345</td><td>Del Taco LLC</td><td>511f9a53920f4641d...</td><td>WE ARE LOOKING FO...</td><td>[we, are, looking...</td><td>[high school, dip...</td></tr>\n",
              "<tr><td>Operations Suppor...</td><td>&lt;div id=&quot;jobDescr...</td><td>Atlanta</td><td>GA</td><td>30342</td><td>FOCUS Brands</td><td>4955daf0a3facbe2a...</td><td>\\n\\nJOB PURPOSE: ...</td><td>[, , job, purpose...</td><td>[Nothing Found]</td></tr>\n",
              "<tr><td>Senior Product Ma...</td><td>&lt;div id=&quot;jobDescr...</td><td>Chicago</td><td>IL</td><td>null</td><td>Vibes</td><td>a0e0d12df1571962b...</td><td>Product Manager -...</td><td>[product, manager...</td><td>[Nothing Found]</td></tr>\n",
              "<tr><td>Part-Time Office ...</td><td>&lt;div id=&quot;jobDescr...</td><td>Festus</td><td>MO</td><td>null</td><td>Coldwell Banker R...</td><td>56e411fd731f76ac9...</td><td>\\nColdwell Banker...</td><td>[, coldwell, bank...</td><td>[high school, dip...</td></tr>\n",
              "<tr><td>Print &amp; Marketing...</td><td>&lt;div id=&quot;jobDescr...</td><td>Cedar Rapids</td><td>IA</td><td>52404</td><td>Staples Stores</td><td>3fff5c0ad6981bf4b...</td><td>\\nDescription\\nPo...</td><td>[, description, p...</td><td>[degree]</td></tr>\n",
              "<tr><td>Cyber IT Risk &amp; S...</td><td>&lt;div id=&quot;jobDescr...</td><td>Washington</td><td>DC</td><td>20003</td><td>Deloitte</td><td>3fcf91a3e406f0727...</td><td>\\n\\n\\nAs a Cyber ...</td><td>[, , , as, a, cyb...</td><td>[Nothing Found]</td></tr>\n",
              "<tr><td>Sales Associate, ...</td><td>&lt;div id=&quot;jobDescr...</td><td>Eastanollee</td><td>GA</td><td>30538</td><td>GNC - General Nut...</td><td>9e23f19b5e9502a49...</td><td>\\n\\nGNC is lookin...</td><td>[, , gnc, is, loo...</td><td>[associates, high...</td></tr>\n",
              "<tr><td>Home Lending Bran...</td><td>&lt;div id=&quot;jobDescr...</td><td>Spokane</td><td>WA</td><td>99201</td><td>Umpqua Bank</td><td>f570dac5fa316794e...</td><td>\\nJOB PURPOSE\\n\\n...</td><td>[, job, purpose, ...</td><td>[bachelor&#x27;s, degree]</td></tr>\n",
              "<tr><td>Property Manager ...</td><td>&lt;div id=&quot;jobDescr...</td><td>Durham</td><td>NC</td><td>null</td><td>PRG Real Estate PA</td><td>219550967b49d887a...</td><td>\\nOverview\\n\\n\\n\\...</td><td>[, overview, , , ...</td><td>[associates, bach...</td></tr>\n",
              "<tr><td>Compliance Specia...</td><td>&lt;div id=&quot;jobDescr...</td><td>Chicago</td><td>IL</td><td>null</td><td>GTI</td><td>de5578ef740fbf9c6...</td><td>\\n\\nAbout Green T...</td><td>[, , about, green...</td><td>[bachelor’s, degree]</td></tr>\n",
              "<tr><td>Sr. Copywriter - ...</td><td>&lt;div id=&quot;jobDescr...</td><td>New York</td><td>NY</td><td>10005</td><td>Clutch</td><td>7ce7f84570a447126...</td><td>\\nCLUTCH is looki...</td><td>[, clutch, is, lo...</td><td>[bachelor’s, degree]</td></tr>\n",
              "<tr><td>Photo Booth Produ...</td><td>&lt;div id=&quot;jobDescr...</td><td>Sacramento</td><td>CA</td><td>null</td><td>The Photo Booth S...</td><td>ee81ae04ff9bc61f9...</td><td>\\nOur SMF team is...</td><td>[, our, smf, team...</td><td>[high school, col...</td></tr>\n",
              "<tr><td>Sales Associate/B...</td><td>&lt;div id=&quot;jobDescr...</td><td>Roanoke</td><td>TX</td><td>76262</td><td>Sally Beauty Supp...</td><td>793397447e8e4e1d3...</td><td>By working at Sal...</td><td>[by, working, at,...</td><td>[Nothing Found]</td></tr>\n",
              "<tr><td>Prog Cost/Sched C...</td><td>&lt;div id=&quot;jobDescr...</td><td>Folsom</td><td>CA</td><td>null</td><td>L3 Technologies</td><td>4cec79e63ab928ee7...</td><td>\\n\\n\\nL3Harris is...</td><td>[, , , l3harris, ...</td><td>[bachelor’s, degree]</td></tr>\n",
              "<tr><td>Tax Preparer I St...</td><td>&lt;div id=&quot;jobDescr...</td><td>Forest Park</td><td>GA</td><td>30297</td><td>Jackson Hewitt Ta...</td><td>2cad8c0d5f7ae7a7f...</td><td>\\n\\n\\nAt Jackson ...</td><td>[, , , at, jackso...</td><td>[high school, deg...</td></tr>\n",
              "<tr><td>Senior Software E...</td><td>&lt;div id=&quot;jobDescr...</td><td>Sandpoint</td><td>ID</td><td>83864</td><td>Kochava</td><td>257be205f6302c2b3...</td><td>\\n\\nKochava build...</td><td>[, , kochava, bui...</td><td>[ms, bs, degree]</td></tr>\n",
              "<tr><td>Internet Sales As...</td><td>&lt;div id=&quot;jobDescr...</td><td>Milledgeville</td><td>GA</td><td>null</td><td>Five Star Toyota</td><td>626974b0274beb4c2...</td><td>Founded in 1986, ...</td><td>[founded, in, 198...</td><td>[Nothing Found]</td></tr>\n",
              "<tr><td>Sales Associate/B...</td><td>&lt;div id=&quot;jobDescr...</td><td>Jacksonville</td><td>FL</td><td>32205</td><td>Sally Beauty Supp...</td><td>0c65111509af1dc39...</td><td>By working at Sal...</td><td>[by, working, at,...</td><td>[Nothing Found]</td></tr>\n",
              "<tr><td>Business Analyst ...</td><td>&lt;div id=&quot;jobDescr...</td><td>New York</td><td>NY</td><td>10036</td><td>Capgemini</td><td>4e998e47943f4d111...</td><td>\\n\\n\\n\\nBusiness ...</td><td>[, , , , business...</td><td>[bachelor’s, degree]</td></tr>\n",
              "<tr><td>Omni-Channel Asso...</td><td>&lt;div id=&quot;jobDescr...</td><td>Bangor</td><td>ME</td><td>04401</td><td>JCPenney</td><td>200c0cb7eb69d1792...</td><td>\\n\\n\\nAs the Omni...</td><td>[, , , as, the, o...</td><td>[bachelor, associ...</td></tr>\n",
              "</table>\n",
              "only showing top 20 rows\n"
            ]
          },
          "metadata": {},
          "execution_count": 15
        }
      ],
      "source": [
        "df = df.withColumn('Education',udfEducation(df.tokens))\n",
        "df"
      ]
    },
    {
      "cell_type": "code",
      "execution_count": 16,
      "metadata": {
        "id": "uHcl0zPwnYeH",
        "colab": {
          "base_uri": "https://localhost:8080/"
        },
        "outputId": "fd07c95d-f313-4489-bbc8-1359799e4b06"
      },
      "outputs": [
        {
          "output_type": "execute_result",
          "data": {
            "text/plain": [
              "[Row(description=\"\\n\\nJOB PURPOSE: This position is responsible for providing Operations support to Restaurants related to technology products utilized in the restaurants, which are administered maintained by the FOCUS Brands Retail Technology Department. This role will act as the primary escalation point for Restaurants, Field Management, and Home Office Teams for the operational use of restaurant systems.\\n\\nCORE JOB FUNCTIONS RESPONSIBILITIES:\\n\\n\\nProgram, Procedure, Execution Material Development - Use strategic thinking to identify areas of improvement within the restaurant systems, used by Home Office and restaurant operations. Develop, test, train, integrate, introduce, and execute new and efficient programs procedures in the following areas including, but not limited to:\\n\\nInformation Technology Innovation Projects and Initiatives\\nSubject Matter Expertise for day to day system administration\\nLiaison between Jamba business teams and IT\\nRestaurant Operating Systems and Procedures\\nLTO &amp; Test Execution Process and Training Guides\\nMarketing and Sales Building Programs\\nAccounting Programs related to technology\\nHuman Resource Programs related to technology\\nDevelopment &amp; Analysis of KPIs relating to restaurant systems\\n\\n\\n\\n\\n\\n\\nProvide detailed reporting and analysis to the Operations team. This position will be responsible for outlining trends and providing action plans to positively affect restaurant operations and organizational focus areas.\\nEnhance communication vehicles impacting the Field and Home Office and adjust organizational culture to reflect effective operations organizational goals\\nCollaborate with our Communication Team and help review the communication that is distributed to field operations on a weekly basis.\\nIncentives Planning Team (IPT): Manages and leads a cross functional team at the Home Office that is tasked with developing systematic and a standardized approach toward Team Member Manager LTO based incentive programs.\\nProject Management: Manage assigned projects to completion using proven project management techniques to plan, initiate, monitor and control, and execute; these activities will include cross-functional partnering, team leadership, and periodic project status reporting.\\n\\n\\n\\n\\n\\nOTHER JOB FUNCTIONS RESPONSIBILITIES:\\n\\n\\nOther responsibilities as assigned on as needed basis to support the organization's objectives and goals.\\n\\n\\nMAGNITUDE SCOPE:\\n\\n\\n\\nKnowledge Skills:\\n\\n\\nStrong communication skills and the ability to receive and convey information in a professional and effective manner\\nCompetency in written communication, and the ability to organize thoughts and information in a simple and easy to understand manner\\nCompetency in planning, organizing and prioritizing the completion of assignment within deadlines\\nCompetency in Microsoft Office suite - Word, Excel, Outlook and data analysis skills\\nGood judgment and decision making skills, and the ability to effectively assess and resolve problems\\nAbility and initiative to identify, analyze, and recommend ways to improve efficiency and effectiveness\\nAbility to work well within, as well as lead a cross-functional team in the completion of projects\\nExcellent knowledge of restaurant POS, back office, online ordering, and all related systems\\n\\n\\n\\n\\nFreedom to Act:\\n\\n\\nAbility to work independently, with a limited amount of direct supervision to achieve goals\\nAble to make logical, informed decisions on large scale programs or initiatives impacting the entire organization\\nEmpowered to act as authority for decisions related to restaurant systems\\n\\n\\n\\n\\n\\n\\nControl spending at or below budget for assigned cost center and assigned projects\\nFlexibility with schedule to meet the needs of the role, as there are times when support is needed beyond the traditional work hours\\nAbility to handle a significant work load\\nExcellent time management skills as the number of projects, timelines, and priorities shift regularly\\n\\n\\n\\n\\nInteraction:\\n\\n\\nAbility to work alone, as well as with other functional teams to take plans and ideas from concept to completion\\nStrong ability to effectively handle external relationships (vendors Guests) in order to create, and deliver on, expectations and protect Brand integrity image\\nRegular interactions with all functional areas within requires the ability to comprehend overall business needs and goals\\nAbility to regularly speak on behalf of Field Operations, while maintaining an overall business approach\\nAbility to handle confidential information with professionalism\\n\\n\\n\\n\\nExternal Relationships: [Nature and extent of relationships with outside incumbent's immediate area that is required to deliver results]\\n\\nMaintain new and existing vendor relationships through accountability and professionalism\\n\\n\\nEDUCATION EXPERIENCE\\n\\nRequired\\n\\n1-2 years of experience operating as part of a successful restaurant management team, or equivalent operations and leadership scope\\nAbility and willingness to travel up to 20% - occasional overnights may be required\\n\\n\\nPHYSICAL DEMANDS:\\n\\nThe physical demands for this position are sits, stands, bends, lifts, and moves intermittently during working hours. These physical requirements may be accomplished with or without reasonable accommodations.\\n\\n\\n\")]"
            ]
          },
          "metadata": {},
          "execution_count": 16
        }
      ],
      "source": [
        "df.select(df['description']).where(df['Company Name'] == 'FOCUS Brands').limit(1).collect()"
      ]
    },
    {
      "cell_type": "code",
      "execution_count": null,
      "metadata": {
        "id": "99PztFLK_dhE"
      },
      "outputs": [],
      "source": [
        "#!pip3 install nltk"
      ]
    },
    {
      "cell_type": "code",
      "execution_count": null,
      "metadata": {
        "id": "4cwAwR8W_k89"
      },
      "outputs": [],
      "source": [
        "#!python -m spacy download en_core_web_md "
      ]
    },
    {
      "cell_type": "code",
      "execution_count": null,
      "metadata": {
        "id": "b0Q_KaDE_1xS"
      },
      "outputs": [],
      "source": []
    },
    {
      "cell_type": "code",
      "execution_count": null,
      "metadata": {
        "id": "3qt65q4C_JuS"
      },
      "outputs": [],
      "source": []
    },
    {
      "cell_type": "code",
      "execution_count": null,
      "metadata": {
        "id": "5Cd9abDLdWcN"
      },
      "outputs": [],
      "source": []
    },
    {
      "cell_type": "code",
      "execution_count": 17,
      "metadata": {
        "id": "BXNd6PQIV70p"
      },
      "outputs": [],
      "source": [
        "import spacy\n",
        "from spacy.matcher import Matcher\n",
        "import nltk\n",
        "from nltk.corpus import stopwords\n",
        "from nltk.tokenize import word_tokenize\n",
        "\n",
        "nlp = spacy.load(\"en_core_web_sm\")\n",
        "matcher = Matcher(nlp.vocab)\n",
        "\n",
        "def narrow_down_skill(str):\n",
        "\tnlp = spacy.load(\"en_core_web_sm\")\n",
        "\tmatcher = Matcher(nlp.vocab)\n",
        "\tdoc = nlp(str)\n",
        "\tstarting = ['experience', 'ability','knowledge','proficiency','competency','understanding','research','implementation']\n",
        "\tending = ['tools','skills','experience','knowledge', 'competency', 'ability','understanding','research','implementation']\n",
        "\tpattern_list = []\n",
        "\tfor word in starting:\n",
        "\t\tpattern_list.append([{'LOWER':word },{'POS':'ADP'},{'POS': {'IN': ('DET', 'NOUN', 'PROPN','VERB','ADJ','ADV','CONJ','NUM','PUNCT','PART','PRON','SYM','SCONJ','ADP','CCONJ','INTJ','AUX')},'OP':'+'}])\n",
        "\t\tpattern_list.append([{'LOWER':word },{'POS':'VERB'},{'POS': {'IN': ('DET', 'NOUN', 'PROPN','VERB','ADJ','ADV','CONJ','NUM','PUNCT','PART','PRON','SYM','SCONJ','ADP','CCONJ','INTJ','AUX')},'OP':'+'}])\n",
        "\t\tpattern_list.append([{'LOWER':word },{'LOWER':'to'},{'POS': {'IN': ('DET', 'NOUN', 'PROPN','VERB','ADJ','ADV','CONJ','NUM','PUNCT','PART','PRON','SYM','SCONJ','ADP','CCONJ','INTJ','AUX')},'OP':'+'}])\n",
        "\t\tpattern_list.append([{'LOWER':word },{'POS':'VERB'}])\n",
        "\n",
        "\tfor word in ending:\n",
        "\t\tpattern_list.append([{'POS': {'IN': ('DET', 'NOUN', 'PROPN','VERB','ADJ','ADV','CONJ','NUM','PUNCT','PART','PRON','SYM','SCONJ','ADP','CCONJ','INTJ','AUX')},'OP':'+'},{'LOWER':word }])\n",
        "\n",
        "\tpattern_list.append([{'LOWER':'such'},{'LOWER':'as'},{'POS': {'IN': ('DET', 'NOUN', 'PROPN','VERB','ADJ','ADV','CONJ','NUM','PUNCT','PART','PRON','SYM','SCONJ','ADP','CCONJ','INTJ','AUX')},'OP':'+'}])\n",
        "\tpattern_list.append([{'LOWER':'like'},{'POS': {'IN': ('DET', 'NOUN', 'PROPN','VERB','ADJ','ADV','CONJ','NUM','PUNCT','PART','PRON','SYM','SCONJ','ADP','CCONJ','INTJ','AUX')},'OP':'+'}])\n",
        "\n",
        "\tmatcher.add('Skills',pattern_list,greedy = 'LONGEST')\n",
        "\tmatches = matcher(doc)\n",
        "\n",
        "\tl = []\n",
        "\tfor match in matches:\n",
        "\t\tl.append(doc[match[1]:match[2]].text)\n",
        "\n",
        "\toutput_string = '\\n'.join(l)\n",
        "\n",
        "\treturn output_string\n",
        "\n",
        "stop_words = set(stopwords.words('english'))\n",
        "more_stop = ['tools','skills','experience','knowledge', 'competency', 'ability','understanding','research','proficiency','qualifications']\n",
        "def get_skills(str_two):\n",
        "  doc_two = nlp(str_two)\n",
        "  matcher_two = Matcher(nlp.vocab)\n",
        "  pattern_list_two = []\n",
        "  pattern_list_two.append([{'POS': {'IN': ('NOUN','PROPN')},'OP':'+'}])\n",
        "  pattern_list_two.append([{'POS': {'IN': ('NOUN','PROPN')},'OP':'+'},{'POS': {'IN': ('NOUN','PROPN')},'OP':'+'}])\n",
        "  pattern_list_two.append([{'POS': {'IN': ('NOUN','PROPN')},'OP':'+'},{'POS':'VERB'}])\n",
        "  pattern_list_two.append([{'POS':'VERB'},{'POS': {'IN': ('NOUN','PROPN')},'OP':'+'}])\n",
        "  pattern_list_two.append([{'POS':'ADJ'},{'POS': {'IN': ('NOUN','PROPN')},'OP':'+'}])\n",
        "  matcher_two.add('Filtered',pattern_list_two)\n",
        "  matches_two = matcher_two(doc_two)\n",
        "  skills_list = []\n",
        "  for match in matches_two:\n",
        "    line = doc_two[match[1]:match[2]].text\n",
        "    tokens = word_tokenize(line)\n",
        "    filtered_list = []\n",
        "    for token in tokens:\n",
        "      if token.lower() not in stop_words and token.lower() not in more_stop:\n",
        "        filtered_list.append(token)\n",
        "    if len(filtered_list) > 0:\n",
        "      skill = ' '.join(filtered_list)\n",
        "      skills_list.append(skill)\n",
        "  return skills_list\n",
        "\n",
        "\n"
      ]
    },
    {
      "cell_type": "code",
      "execution_count": 18,
      "metadata": {
        "id": "iluHqeMnWe_E"
      },
      "outputs": [],
      "source": [
        "from pyspark.sql.functions import udf\n",
        "from pyspark.sql.types import StringType\n",
        "\n",
        "convertUDF1 = udf(lambda z: narrow_down_skill(z), StringType())"
      ]
    },
    {
      "cell_type": "code",
      "execution_count": 19,
      "metadata": {
        "colab": {
          "base_uri": "https://localhost:8080/",
          "height": 520
        },
        "id": "i-lDS_Y8XY1X",
        "outputId": "1080b735-afd4-40c0-976a-9cdc98708748"
      },
      "outputs": [
        {
          "output_type": "execute_result",
          "data": {
            "text/plain": [
              "+--------------------+--------------------+-------------+-----+--------+--------------------+--------------------+--------------------+--------------------+--------------------+--------------------+\n",
              "|           Job Title|     Job Description|         City|State|Zip Code|        Company Name|             Uniq Id|         description|              tokens|           Education|  narrow down skills|\n",
              "+--------------------+--------------------+-------------+-----+--------+--------------------+--------------------+--------------------+--------------------+--------------------+--------------------+\n",
              "|       Shift Manager|<div id=\"jobDescr...|Mission Hills|   CA|   91345|        Del Taco LLC|511f9a53920f4641d...|WE ARE LOOKING FO...|[we, are, looking...|[high school, dip...|ability to handle...|\n",
              "|Operations Suppor...|<div id=\"jobDescr...|      Atlanta|   GA|   30342|        FOCUS Brands|4955daf0a3facbe2a...|\\n\\nJOB PURPOSE: ...|[, , job, purpose...|     [Nothing Found]|ability to effect...|\n",
              "|Senior Product Ma...|<div id=\"jobDescr...|      Chicago|   IL|    null|               Vibes|a0e0d12df1571962b...|Product Manager -...|[product, manager...|     [Nothing Found]|You are a Product...|\n",
              "|Part-Time Office ...|<div id=\"jobDescr...|       Festus|   MO|    null|Coldwell Banker R...|56e411fd731f76ac9...|\\nColdwell Banker...|[, coldwell, bank...|[high school, dip...|This is largely a...|\n",
              "|Print & Marketing...|<div id=\"jobDescr...| Cedar Rapids|   IA|   52404|      Staples Stores|3fff5c0ad6981bf4b...|\\nDescription\\nPo...|[, description, p...|            [degree]|The Copy and Prin...|\n",
              "|Cyber IT Risk & S...|<div id=\"jobDescr...|   Washington|   DC|   20003|            Deloitte|3fcf91a3e406f0727...|\\n\\n\\nAs a Cyber ...|[, , , as, a, cyb...|     [Nothing Found]|At Deloitte we vi...|\n",
              "|Sales Associate, ...|<div id=\"jobDescr...|  Eastanollee|   GA|   30538|GNC - General Nut...|9e23f19b5e9502a49...|\\n\\nGNC is lookin...|[, , gnc, is, loo...|[associates, high...|GNC is looking fo...|\n",
              "|Home Lending Bran...|<div id=\"jobDescr...|      Spokane|   WA|   99201|         Umpqua Bank|f570dac5fa316794e...|\\nJOB PURPOSE\\n\\n...|[, job, purpose, ...|[bachelor's, degree]|understanding of ...|\n",
              "|Property Manager ...|<div id=\"jobDescr...|       Durham|   NC|    null|  PRG Real Estate PA|219550967b49d887a...|\\nOverview\\n\\n\\n\\...|[, overview, , , ...|[associates, bach...|If you’re the kin...|\n",
              "|Compliance Specia...|<div id=\"jobDescr...|      Chicago|   IL|    null|                 GTI|de5578ef740fbf9c6...|\\n\\nAbout Green T...|[, , about, green...|[bachelor’s, degree]|As the Marketing,...|\n",
              "|Sr. Copywriter - ...|<div id=\"jobDescr...|     New York|   NY|   10005|              Clutch|7ce7f84570a447126...|\\nCLUTCH is looki...|[, clutch, is, lo...|[bachelor’s, degree]|experience in HCP...|\n",
              "|Photo Booth Produ...|<div id=\"jobDescr...|   Sacramento|   CA|    null|The Photo Booth S...|ee81ae04ff9bc61f9...|\\nOur SMF team is...|[, our, smf, team...|[high school, col...|A good job for so...|\n",
              "|Sales Associate/B...|<div id=\"jobDescr...|      Roanoke|   TX|   76262|Sally Beauty Supp...|793397447e8e4e1d3...|By working at Sal...|[by, working, at,...|     [Nothing Found]|experience for ou...|\n",
              "|Prog Cost/Sched C...|<div id=\"jobDescr...|       Folsom|   CA|    null|     L3 Technologies|4cec79e63ab928ee7...|\\n\\n\\nL3Harris is...|[, , , l3harris, ...|[bachelor’s, degree]|This position is ...|\n",
              "|Tax Preparer I St...|<div id=\"jobDescr...|  Forest Park|   GA|   30297|Jackson Hewitt Ta...|2cad8c0d5f7ae7a7f...|\\n\\n\\nAt Jackson ...|[, , , at, jackso...|[high school, deg...|Presents the Comp...|\n",
              "|Senior Software E...|<div id=\"jobDescr...|    Sandpoint|   ID|   83864|             Kochava|257be205f6302c2b3...|\\n\\nKochava build...|[, , kochava, bui...|    [ms, bs, degree]|We are looking fo...|\n",
              "|Internet Sales As...|<div id=\"jobDescr...|Milledgeville|   GA|    null|    Five Star Toyota|626974b0274beb4c2...|Founded in 1986, ...|[founded, in, 198...|     [Nothing Found]|Assist customers ...|\n",
              "|Sales Associate/B...|<div id=\"jobDescr...| Jacksonville|   FL|   32205|Sally Beauty Supp...|0c65111509af1dc39...|By working at Sal...|[by, working, at,...|     [Nothing Found]|experience for ou...|\n",
              "|Business Analyst ...|<div id=\"jobDescr...|     New York|   NY|   10036|           Capgemini|4e998e47943f4d111...|\\n\\n\\n\\nBusiness ...|[, , , , business...|[bachelor’s, degree]|Business Analysts...|\n",
              "|Omni-Channel Asso...|<div id=\"jobDescr...|       Bangor|   ME|   04401|            JCPenney|200c0cb7eb69d1792...|\\n\\n\\nAs the Omni...|[, , , as, the, o...|[bachelor, associ...|At JCPenney, we s...|\n",
              "+--------------------+--------------------+-------------+-----+--------+--------------------+--------------------+--------------------+--------------------+--------------------+--------------------+\n",
              "only showing top 20 rows"
            ],
            "text/html": [
              "<table border='1'>\n",
              "<tr><th>Job Title</th><th>Job Description</th><th>City</th><th>State</th><th>Zip Code</th><th>Company Name</th><th>Uniq Id</th><th>description</th><th>tokens</th><th>Education</th><th>narrow down skills</th></tr>\n",
              "<tr><td>Shift Manager</td><td>&lt;div id=&quot;jobDescr...</td><td>Mission Hills</td><td>CA</td><td>91345</td><td>Del Taco LLC</td><td>511f9a53920f4641d...</td><td>WE ARE LOOKING FO...</td><td>[we, are, looking...</td><td>[high school, dip...</td><td>ability to handle...</td></tr>\n",
              "<tr><td>Operations Suppor...</td><td>&lt;div id=&quot;jobDescr...</td><td>Atlanta</td><td>GA</td><td>30342</td><td>FOCUS Brands</td><td>4955daf0a3facbe2a...</td><td>\\n\\nJOB PURPOSE: ...</td><td>[, , job, purpose...</td><td>[Nothing Found]</td><td>ability to effect...</td></tr>\n",
              "<tr><td>Senior Product Ma...</td><td>&lt;div id=&quot;jobDescr...</td><td>Chicago</td><td>IL</td><td>null</td><td>Vibes</td><td>a0e0d12df1571962b...</td><td>Product Manager -...</td><td>[product, manager...</td><td>[Nothing Found]</td><td>You are a Product...</td></tr>\n",
              "<tr><td>Part-Time Office ...</td><td>&lt;div id=&quot;jobDescr...</td><td>Festus</td><td>MO</td><td>null</td><td>Coldwell Banker R...</td><td>56e411fd731f76ac9...</td><td>\\nColdwell Banker...</td><td>[, coldwell, bank...</td><td>[high school, dip...</td><td>This is largely a...</td></tr>\n",
              "<tr><td>Print &amp; Marketing...</td><td>&lt;div id=&quot;jobDescr...</td><td>Cedar Rapids</td><td>IA</td><td>52404</td><td>Staples Stores</td><td>3fff5c0ad6981bf4b...</td><td>\\nDescription\\nPo...</td><td>[, description, p...</td><td>[degree]</td><td>The Copy and Prin...</td></tr>\n",
              "<tr><td>Cyber IT Risk &amp; S...</td><td>&lt;div id=&quot;jobDescr...</td><td>Washington</td><td>DC</td><td>20003</td><td>Deloitte</td><td>3fcf91a3e406f0727...</td><td>\\n\\n\\nAs a Cyber ...</td><td>[, , , as, a, cyb...</td><td>[Nothing Found]</td><td>At Deloitte we vi...</td></tr>\n",
              "<tr><td>Sales Associate, ...</td><td>&lt;div id=&quot;jobDescr...</td><td>Eastanollee</td><td>GA</td><td>30538</td><td>GNC - General Nut...</td><td>9e23f19b5e9502a49...</td><td>\\n\\nGNC is lookin...</td><td>[, , gnc, is, loo...</td><td>[associates, high...</td><td>GNC is looking fo...</td></tr>\n",
              "<tr><td>Home Lending Bran...</td><td>&lt;div id=&quot;jobDescr...</td><td>Spokane</td><td>WA</td><td>99201</td><td>Umpqua Bank</td><td>f570dac5fa316794e...</td><td>\\nJOB PURPOSE\\n\\n...</td><td>[, job, purpose, ...</td><td>[bachelor&#x27;s, degree]</td><td>understanding of ...</td></tr>\n",
              "<tr><td>Property Manager ...</td><td>&lt;div id=&quot;jobDescr...</td><td>Durham</td><td>NC</td><td>null</td><td>PRG Real Estate PA</td><td>219550967b49d887a...</td><td>\\nOverview\\n\\n\\n\\...</td><td>[, overview, , , ...</td><td>[associates, bach...</td><td>If you’re the kin...</td></tr>\n",
              "<tr><td>Compliance Specia...</td><td>&lt;div id=&quot;jobDescr...</td><td>Chicago</td><td>IL</td><td>null</td><td>GTI</td><td>de5578ef740fbf9c6...</td><td>\\n\\nAbout Green T...</td><td>[, , about, green...</td><td>[bachelor’s, degree]</td><td>As the Marketing,...</td></tr>\n",
              "<tr><td>Sr. Copywriter - ...</td><td>&lt;div id=&quot;jobDescr...</td><td>New York</td><td>NY</td><td>10005</td><td>Clutch</td><td>7ce7f84570a447126...</td><td>\\nCLUTCH is looki...</td><td>[, clutch, is, lo...</td><td>[bachelor’s, degree]</td><td>experience in HCP...</td></tr>\n",
              "<tr><td>Photo Booth Produ...</td><td>&lt;div id=&quot;jobDescr...</td><td>Sacramento</td><td>CA</td><td>null</td><td>The Photo Booth S...</td><td>ee81ae04ff9bc61f9...</td><td>\\nOur SMF team is...</td><td>[, our, smf, team...</td><td>[high school, col...</td><td>A good job for so...</td></tr>\n",
              "<tr><td>Sales Associate/B...</td><td>&lt;div id=&quot;jobDescr...</td><td>Roanoke</td><td>TX</td><td>76262</td><td>Sally Beauty Supp...</td><td>793397447e8e4e1d3...</td><td>By working at Sal...</td><td>[by, working, at,...</td><td>[Nothing Found]</td><td>experience for ou...</td></tr>\n",
              "<tr><td>Prog Cost/Sched C...</td><td>&lt;div id=&quot;jobDescr...</td><td>Folsom</td><td>CA</td><td>null</td><td>L3 Technologies</td><td>4cec79e63ab928ee7...</td><td>\\n\\n\\nL3Harris is...</td><td>[, , , l3harris, ...</td><td>[bachelor’s, degree]</td><td>This position is ...</td></tr>\n",
              "<tr><td>Tax Preparer I St...</td><td>&lt;div id=&quot;jobDescr...</td><td>Forest Park</td><td>GA</td><td>30297</td><td>Jackson Hewitt Ta...</td><td>2cad8c0d5f7ae7a7f...</td><td>\\n\\n\\nAt Jackson ...</td><td>[, , , at, jackso...</td><td>[high school, deg...</td><td>Presents the Comp...</td></tr>\n",
              "<tr><td>Senior Software E...</td><td>&lt;div id=&quot;jobDescr...</td><td>Sandpoint</td><td>ID</td><td>83864</td><td>Kochava</td><td>257be205f6302c2b3...</td><td>\\n\\nKochava build...</td><td>[, , kochava, bui...</td><td>[ms, bs, degree]</td><td>We are looking fo...</td></tr>\n",
              "<tr><td>Internet Sales As...</td><td>&lt;div id=&quot;jobDescr...</td><td>Milledgeville</td><td>GA</td><td>null</td><td>Five Star Toyota</td><td>626974b0274beb4c2...</td><td>Founded in 1986, ...</td><td>[founded, in, 198...</td><td>[Nothing Found]</td><td>Assist customers ...</td></tr>\n",
              "<tr><td>Sales Associate/B...</td><td>&lt;div id=&quot;jobDescr...</td><td>Jacksonville</td><td>FL</td><td>32205</td><td>Sally Beauty Supp...</td><td>0c65111509af1dc39...</td><td>By working at Sal...</td><td>[by, working, at,...</td><td>[Nothing Found]</td><td>experience for ou...</td></tr>\n",
              "<tr><td>Business Analyst ...</td><td>&lt;div id=&quot;jobDescr...</td><td>New York</td><td>NY</td><td>10036</td><td>Capgemini</td><td>4e998e47943f4d111...</td><td>\\n\\n\\n\\nBusiness ...</td><td>[, , , , business...</td><td>[bachelor’s, degree]</td><td>Business Analysts...</td></tr>\n",
              "<tr><td>Omni-Channel Asso...</td><td>&lt;div id=&quot;jobDescr...</td><td>Bangor</td><td>ME</td><td>04401</td><td>JCPenney</td><td>200c0cb7eb69d1792...</td><td>\\n\\n\\nAs the Omni...</td><td>[, , , as, the, o...</td><td>[bachelor, associ...</td><td>At JCPenney, we s...</td></tr>\n",
              "</table>\n",
              "only showing top 20 rows\n"
            ]
          },
          "metadata": {},
          "execution_count": 19
        }
      ],
      "source": [
        "df = df.withColumn('narrow down skills', convertUDF1(df['description']))\n",
        "df"
      ]
    },
    {
      "cell_type": "code",
      "execution_count": null,
      "metadata": {
        "id": "xyz5qf-QeVYR"
      },
      "outputs": [],
      "source": [
        "#df.select('skills').limit(1).collect()[0]['skills']"
      ]
    },
    {
      "cell_type": "code",
      "execution_count": 20,
      "metadata": {
        "id": "FC5dpVx1eqKj"
      },
      "outputs": [],
      "source": [
        "convertUDF2 = udf(lambda z: get_skills(z), ArrayType(StringType()))"
      ]
    },
    {
      "cell_type": "code",
      "execution_count": 21,
      "metadata": {
        "colab": {
          "base_uri": "https://localhost:8080/",
          "height": 520
        },
        "id": "D8zCY351fgmh",
        "outputId": "3b6c1d63-f381-4f67-b444-938df042a847"
      },
      "outputs": [
        {
          "output_type": "execute_result",
          "data": {
            "text/plain": [
              "+--------------------+--------------------+-------------+-----+--------+--------------------+--------------------+--------------------+--------------------+--------------------+--------------------+--------------------+\n",
              "|           Job Title|     Job Description|         City|State|Zip Code|        Company Name|             Uniq Id|         description|              tokens|           Education|  narrow down skills|              skills|\n",
              "+--------------------+--------------------+-------------+-----+--------+--------------------+--------------------+--------------------+--------------------+--------------------+--------------------+--------------------+\n",
              "|       Shift Manager|<div id=\"jobDescr...|Mission Hills|   CA|   91345|        Del Taco LLC|511f9a53920f4641d...|WE ARE LOOKING FO...|[we, are, looking...|[high school, dip...|ability to handle...|[multiple respons...|\n",
              "|Operations Suppor...|<div id=\"jobDescr...|      Atlanta|   GA|   30342|        FOCUS Brands|4955daf0a3facbe2a...|\\n\\nJOB PURPOSE: ...|[, , job, purpose...|     [Nothing Found]|ability to effect...|[external relatio...|\n",
              "|Senior Product Ma...|<div id=\"jobDescr...|      Chicago|   IL|    null|               Vibes|a0e0d12df1571962b...|Product Manager -...|[product, manager...|     [Nothing Found]|You are a Product...|[Product, Product...|\n",
              "|Part-Time Office ...|<div id=\"jobDescr...|       Festus|   MO|    null|Coldwell Banker R...|56e411fd731f76ac9...|\\nColdwell Banker...|[, coldwell, bank...|[high school, dip...|This is largely a...|[sedentary role, ...|\n",
              "|Print & Marketing...|<div id=\"jobDescr...| Cedar Rapids|   IA|   52404|      Staples Stores|3fff5c0ad6981bf4b...|\\nDescription\\nPo...|[, description, p...|            [degree]|The Copy and Prin...|[Copy, Print, Pri...|\n",
              "|Cyber IT Risk & S...|<div id=\"jobDescr...|   Washington|   DC|   20003|            Deloitte|3fcf91a3e406f0727...|\\n\\n\\nAs a Cyber ...|[, , , as, a, cyb...|     [Nothing Found]|At Deloitte we vi...|[Deloitte, view c...|\n",
              "|Sales Associate, ...|<div id=\"jobDescr...|  Eastanollee|   GA|   30538|GNC - General Nut...|9e23f19b5e9502a49...|\\n\\nGNC is lookin...|[, , gnc, is, loo...|[associates, high...|GNC is looking fo...|[GNC, dynamic sal...|\n",
              "|Home Lending Bran...|<div id=\"jobDescr...|      Spokane|   WA|   99201|         Umpqua Bank|f570dac5fa316794e...|\\nJOB PURPOSE\\n\\n...|[, job, purpose, ...|[bachelor's, degree]|understanding of ...|[residential mort...|\n",
              "|Property Manager ...|<div id=\"jobDescr...|       Durham|   NC|    null|  PRG Real Estate PA|219550967b49d887a...|\\nOverview\\n\\n\\n\\...|[, overview, , , ...|[associates, bach...|If you’re the kin...|[kind, person, ca...|\n",
              "|Compliance Specia...|<div id=\"jobDescr...|      Chicago|   IL|    null|                 GTI|de5578ef740fbf9c6...|\\n\\nAbout Green T...|[, , about, green...|[bachelor’s, degree]|As the Marketing,...|[Marketing, Adver...|\n",
              "|Sr. Copywriter - ...|<div id=\"jobDescr...|     New York|   NY|   10005|              Clutch|7ce7f84570a447126...|\\nCLUTCH is looki...|[, clutch, is, lo...|[bachelor’s, degree]|experience in HCP...|[HCP, Pharma, Cop...|\n",
              "|Photo Booth Produ...|<div id=\"jobDescr...|   Sacramento|   CA|    null|The Photo Booth S...|ee81ae04ff9bc61f9...|\\nOur SMF team is...|[, our, smf, team...|[high school, col...|A good job for so...|[good job, job, w...|\n",
              "|Sales Associate/B...|<div id=\"jobDescr...|      Roanoke|   TX|   76262|Sally Beauty Supp...|793397447e8e4e1d3...|By working at Sal...|[by, working, at,...|     [Nothing Found]|experience for ou...|[customers, passi...|\n",
              "|Prog Cost/Sched C...|<div id=\"jobDescr...|       Folsom|   CA|    null|     L3 Technologies|4cec79e63ab928ee7...|\\n\\n\\nL3Harris is...|[, , , l3harris, ...|[bachelor’s, degree]|This position is ...|[position, collec...|\n",
              "|Tax Preparer I St...|<div id=\"jobDescr...|  Forest Park|   GA|   30297|Jackson Hewitt Ta...|2cad8c0d5f7ae7a7f...|\\n\\n\\nAt Jackson ...|[, , , at, jackso...|[high school, deg...|Presents the Comp...|[Company, value, ...|\n",
              "|Senior Software E...|<div id=\"jobDescr...|    Sandpoint|   ID|   83864|             Kochava|257be205f6302c2b3...|\\n\\nKochava build...|[, , kochava, bui...|    [ms, bs, degree]|We are looking fo...|[dedicated team, ...|\n",
              "|Internet Sales As...|<div id=\"jobDescr...|Milledgeville|   GA|    null|    Five Star Toyota|626974b0274beb4c2...|Founded in 1986, ...|[founded, in, 198...|     [Nothing Found]|Assist customers ...|[Assist customers...|\n",
              "|Sales Associate/B...|<div id=\"jobDescr...| Jacksonville|   FL|   32205|Sally Beauty Supp...|0c65111509af1dc39...|By working at Sal...|[by, working, at,...|     [Nothing Found]|experience for ou...|[customers, passi...|\n",
              "|Business Analyst ...|<div id=\"jobDescr...|     New York|   NY|   10036|           Capgemini|4e998e47943f4d111...|\\n\\n\\n\\nBusiness ...|[, , , , business...|[bachelor’s, degree]|Business Analysts...|[Business, Busine...|\n",
              "|Omni-Channel Asso...|<div id=\"jobDescr...|       Bangor|   ME|   04401|            JCPenney|200c0cb7eb69d1792...|\\n\\n\\nAs the Omni...|[, , , as, the, o...|[bachelor, associ...|At JCPenney, we s...|[JCPenney, passio...|\n",
              "+--------------------+--------------------+-------------+-----+--------+--------------------+--------------------+--------------------+--------------------+--------------------+--------------------+--------------------+\n",
              "only showing top 20 rows"
            ],
            "text/html": [
              "<table border='1'>\n",
              "<tr><th>Job Title</th><th>Job Description</th><th>City</th><th>State</th><th>Zip Code</th><th>Company Name</th><th>Uniq Id</th><th>description</th><th>tokens</th><th>Education</th><th>narrow down skills</th><th>skills</th></tr>\n",
              "<tr><td>Shift Manager</td><td>&lt;div id=&quot;jobDescr...</td><td>Mission Hills</td><td>CA</td><td>91345</td><td>Del Taco LLC</td><td>511f9a53920f4641d...</td><td>WE ARE LOOKING FO...</td><td>[we, are, looking...</td><td>[high school, dip...</td><td>ability to handle...</td><td>[multiple respons...</td></tr>\n",
              "<tr><td>Operations Suppor...</td><td>&lt;div id=&quot;jobDescr...</td><td>Atlanta</td><td>GA</td><td>30342</td><td>FOCUS Brands</td><td>4955daf0a3facbe2a...</td><td>\\n\\nJOB PURPOSE: ...</td><td>[, , job, purpose...</td><td>[Nothing Found]</td><td>ability to effect...</td><td>[external relatio...</td></tr>\n",
              "<tr><td>Senior Product Ma...</td><td>&lt;div id=&quot;jobDescr...</td><td>Chicago</td><td>IL</td><td>null</td><td>Vibes</td><td>a0e0d12df1571962b...</td><td>Product Manager -...</td><td>[product, manager...</td><td>[Nothing Found]</td><td>You are a Product...</td><td>[Product, Product...</td></tr>\n",
              "<tr><td>Part-Time Office ...</td><td>&lt;div id=&quot;jobDescr...</td><td>Festus</td><td>MO</td><td>null</td><td>Coldwell Banker R...</td><td>56e411fd731f76ac9...</td><td>\\nColdwell Banker...</td><td>[, coldwell, bank...</td><td>[high school, dip...</td><td>This is largely a...</td><td>[sedentary role, ...</td></tr>\n",
              "<tr><td>Print &amp; Marketing...</td><td>&lt;div id=&quot;jobDescr...</td><td>Cedar Rapids</td><td>IA</td><td>52404</td><td>Staples Stores</td><td>3fff5c0ad6981bf4b...</td><td>\\nDescription\\nPo...</td><td>[, description, p...</td><td>[degree]</td><td>The Copy and Prin...</td><td>[Copy, Print, Pri...</td></tr>\n",
              "<tr><td>Cyber IT Risk &amp; S...</td><td>&lt;div id=&quot;jobDescr...</td><td>Washington</td><td>DC</td><td>20003</td><td>Deloitte</td><td>3fcf91a3e406f0727...</td><td>\\n\\n\\nAs a Cyber ...</td><td>[, , , as, a, cyb...</td><td>[Nothing Found]</td><td>At Deloitte we vi...</td><td>[Deloitte, view c...</td></tr>\n",
              "<tr><td>Sales Associate, ...</td><td>&lt;div id=&quot;jobDescr...</td><td>Eastanollee</td><td>GA</td><td>30538</td><td>GNC - General Nut...</td><td>9e23f19b5e9502a49...</td><td>\\n\\nGNC is lookin...</td><td>[, , gnc, is, loo...</td><td>[associates, high...</td><td>GNC is looking fo...</td><td>[GNC, dynamic sal...</td></tr>\n",
              "<tr><td>Home Lending Bran...</td><td>&lt;div id=&quot;jobDescr...</td><td>Spokane</td><td>WA</td><td>99201</td><td>Umpqua Bank</td><td>f570dac5fa316794e...</td><td>\\nJOB PURPOSE\\n\\n...</td><td>[, job, purpose, ...</td><td>[bachelor&#x27;s, degree]</td><td>understanding of ...</td><td>[residential mort...</td></tr>\n",
              "<tr><td>Property Manager ...</td><td>&lt;div id=&quot;jobDescr...</td><td>Durham</td><td>NC</td><td>null</td><td>PRG Real Estate PA</td><td>219550967b49d887a...</td><td>\\nOverview\\n\\n\\n\\...</td><td>[, overview, , , ...</td><td>[associates, bach...</td><td>If you’re the kin...</td><td>[kind, person, ca...</td></tr>\n",
              "<tr><td>Compliance Specia...</td><td>&lt;div id=&quot;jobDescr...</td><td>Chicago</td><td>IL</td><td>null</td><td>GTI</td><td>de5578ef740fbf9c6...</td><td>\\n\\nAbout Green T...</td><td>[, , about, green...</td><td>[bachelor’s, degree]</td><td>As the Marketing,...</td><td>[Marketing, Adver...</td></tr>\n",
              "<tr><td>Sr. Copywriter - ...</td><td>&lt;div id=&quot;jobDescr...</td><td>New York</td><td>NY</td><td>10005</td><td>Clutch</td><td>7ce7f84570a447126...</td><td>\\nCLUTCH is looki...</td><td>[, clutch, is, lo...</td><td>[bachelor’s, degree]</td><td>experience in HCP...</td><td>[HCP, Pharma, Cop...</td></tr>\n",
              "<tr><td>Photo Booth Produ...</td><td>&lt;div id=&quot;jobDescr...</td><td>Sacramento</td><td>CA</td><td>null</td><td>The Photo Booth S...</td><td>ee81ae04ff9bc61f9...</td><td>\\nOur SMF team is...</td><td>[, our, smf, team...</td><td>[high school, col...</td><td>A good job for so...</td><td>[good job, job, w...</td></tr>\n",
              "<tr><td>Sales Associate/B...</td><td>&lt;div id=&quot;jobDescr...</td><td>Roanoke</td><td>TX</td><td>76262</td><td>Sally Beauty Supp...</td><td>793397447e8e4e1d3...</td><td>By working at Sal...</td><td>[by, working, at,...</td><td>[Nothing Found]</td><td>experience for ou...</td><td>[customers, passi...</td></tr>\n",
              "<tr><td>Prog Cost/Sched C...</td><td>&lt;div id=&quot;jobDescr...</td><td>Folsom</td><td>CA</td><td>null</td><td>L3 Technologies</td><td>4cec79e63ab928ee7...</td><td>\\n\\n\\nL3Harris is...</td><td>[, , , l3harris, ...</td><td>[bachelor’s, degree]</td><td>This position is ...</td><td>[position, collec...</td></tr>\n",
              "<tr><td>Tax Preparer I St...</td><td>&lt;div id=&quot;jobDescr...</td><td>Forest Park</td><td>GA</td><td>30297</td><td>Jackson Hewitt Ta...</td><td>2cad8c0d5f7ae7a7f...</td><td>\\n\\n\\nAt Jackson ...</td><td>[, , , at, jackso...</td><td>[high school, deg...</td><td>Presents the Comp...</td><td>[Company, value, ...</td></tr>\n",
              "<tr><td>Senior Software E...</td><td>&lt;div id=&quot;jobDescr...</td><td>Sandpoint</td><td>ID</td><td>83864</td><td>Kochava</td><td>257be205f6302c2b3...</td><td>\\n\\nKochava build...</td><td>[, , kochava, bui...</td><td>[ms, bs, degree]</td><td>We are looking fo...</td><td>[dedicated team, ...</td></tr>\n",
              "<tr><td>Internet Sales As...</td><td>&lt;div id=&quot;jobDescr...</td><td>Milledgeville</td><td>GA</td><td>null</td><td>Five Star Toyota</td><td>626974b0274beb4c2...</td><td>Founded in 1986, ...</td><td>[founded, in, 198...</td><td>[Nothing Found]</td><td>Assist customers ...</td><td>[Assist customers...</td></tr>\n",
              "<tr><td>Sales Associate/B...</td><td>&lt;div id=&quot;jobDescr...</td><td>Jacksonville</td><td>FL</td><td>32205</td><td>Sally Beauty Supp...</td><td>0c65111509af1dc39...</td><td>By working at Sal...</td><td>[by, working, at,...</td><td>[Nothing Found]</td><td>experience for ou...</td><td>[customers, passi...</td></tr>\n",
              "<tr><td>Business Analyst ...</td><td>&lt;div id=&quot;jobDescr...</td><td>New York</td><td>NY</td><td>10036</td><td>Capgemini</td><td>4e998e47943f4d111...</td><td>\\n\\n\\n\\nBusiness ...</td><td>[, , , , business...</td><td>[bachelor’s, degree]</td><td>Business Analysts...</td><td>[Business, Busine...</td></tr>\n",
              "<tr><td>Omni-Channel Asso...</td><td>&lt;div id=&quot;jobDescr...</td><td>Bangor</td><td>ME</td><td>04401</td><td>JCPenney</td><td>200c0cb7eb69d1792...</td><td>\\n\\n\\nAs the Omni...</td><td>[, , , as, the, o...</td><td>[bachelor, associ...</td><td>At JCPenney, we s...</td><td>[JCPenney, passio...</td></tr>\n",
              "</table>\n",
              "only showing top 20 rows\n"
            ]
          },
          "metadata": {},
          "execution_count": 21
        }
      ],
      "source": [
        "df = df.withColumn('skills', convertUDF2(df['narrow down skills']))\n",
        "df"
      ]
    },
    {
      "cell_type": "code",
      "execution_count": 22,
      "metadata": {
        "colab": {
          "base_uri": "https://localhost:8080/",
          "height": 520
        },
        "id": "8D2glSU7KT57",
        "outputId": "67c46730-8fca-498b-d917-0e9f668ae5e3"
      },
      "outputs": [
        {
          "output_type": "execute_result",
          "data": {
            "text/plain": [
              "+--------------------+-----------+------------+\n",
              "|                 src|        dst|relationship|\n",
              "+--------------------+-----------+------------+\n",
              "|511f9a53920f4641d...|high school|    requires|\n",
              "|511f9a53920f4641d...|    diploma|    requires|\n",
              "|56e411fd731f76ac9...|high school|    requires|\n",
              "|56e411fd731f76ac9...|    diploma|    requires|\n",
              "|3fff5c0ad6981bf4b...|     degree|    requires|\n",
              "|9e23f19b5e9502a49...| associates|    requires|\n",
              "|9e23f19b5e9502a49...|high school|    requires|\n",
              "|9e23f19b5e9502a49...|    diploma|    requires|\n",
              "|f570dac5fa316794e...| bachelor's|    requires|\n",
              "|f570dac5fa316794e...|     degree|    requires|\n",
              "|219550967b49d887a...| associates|    requires|\n",
              "|219550967b49d887a...| bachelor’s|    requires|\n",
              "|219550967b49d887a...|     degree|    requires|\n",
              "|de5578ef740fbf9c6...| bachelor’s|    requires|\n",
              "|de5578ef740fbf9c6...|     degree|    requires|\n",
              "|7ce7f84570a447126...| bachelor’s|    requires|\n",
              "|7ce7f84570a447126...|     degree|    requires|\n",
              "|ee81ae04ff9bc61f9...|high school|    requires|\n",
              "|ee81ae04ff9bc61f9...|    college|    requires|\n",
              "|ee81ae04ff9bc61f9...|    diploma|    requires|\n",
              "+--------------------+-----------+------------+\n",
              "only showing top 20 rows"
            ],
            "text/html": [
              "<table border='1'>\n",
              "<tr><th>src</th><th>dst</th><th>relationship</th></tr>\n",
              "<tr><td>511f9a53920f4641d...</td><td>high school</td><td>requires</td></tr>\n",
              "<tr><td>511f9a53920f4641d...</td><td>diploma</td><td>requires</td></tr>\n",
              "<tr><td>56e411fd731f76ac9...</td><td>high school</td><td>requires</td></tr>\n",
              "<tr><td>56e411fd731f76ac9...</td><td>diploma</td><td>requires</td></tr>\n",
              "<tr><td>3fff5c0ad6981bf4b...</td><td>degree</td><td>requires</td></tr>\n",
              "<tr><td>9e23f19b5e9502a49...</td><td>associates</td><td>requires</td></tr>\n",
              "<tr><td>9e23f19b5e9502a49...</td><td>high school</td><td>requires</td></tr>\n",
              "<tr><td>9e23f19b5e9502a49...</td><td>diploma</td><td>requires</td></tr>\n",
              "<tr><td>f570dac5fa316794e...</td><td>bachelor&#x27;s</td><td>requires</td></tr>\n",
              "<tr><td>f570dac5fa316794e...</td><td>degree</td><td>requires</td></tr>\n",
              "<tr><td>219550967b49d887a...</td><td>associates</td><td>requires</td></tr>\n",
              "<tr><td>219550967b49d887a...</td><td>bachelor’s</td><td>requires</td></tr>\n",
              "<tr><td>219550967b49d887a...</td><td>degree</td><td>requires</td></tr>\n",
              "<tr><td>de5578ef740fbf9c6...</td><td>bachelor’s</td><td>requires</td></tr>\n",
              "<tr><td>de5578ef740fbf9c6...</td><td>degree</td><td>requires</td></tr>\n",
              "<tr><td>7ce7f84570a447126...</td><td>bachelor’s</td><td>requires</td></tr>\n",
              "<tr><td>7ce7f84570a447126...</td><td>degree</td><td>requires</td></tr>\n",
              "<tr><td>ee81ae04ff9bc61f9...</td><td>high school</td><td>requires</td></tr>\n",
              "<tr><td>ee81ae04ff9bc61f9...</td><td>college</td><td>requires</td></tr>\n",
              "<tr><td>ee81ae04ff9bc61f9...</td><td>diploma</td><td>requires</td></tr>\n",
              "</table>\n",
              "only showing top 20 rows\n"
            ]
          },
          "metadata": {},
          "execution_count": 22
        }
      ],
      "source": [
        "df.createOrReplaceTempView('df')\n",
        "edges_education = spark.sql(\"select `Uniq Id` as src, dst,'requires' as relationship from (select `Uniq Id`, explode(Education) as dst from df) where dst!= 'Nothing Found'\")\n",
        "edges_education"
      ]
    },
    {
      "cell_type": "code",
      "execution_count": 23,
      "metadata": {
        "colab": {
          "base_uri": "https://localhost:8080/",
          "height": 520
        },
        "id": "7BioRs2yNcHA",
        "outputId": "f57382fc-426f-4f6b-e4c0-824329144411"
      },
      "outputs": [
        {
          "output_type": "execute_result",
          "data": {
            "text/plain": [
              "+--------------------+--------------------+------------+\n",
              "|                 src|                 dst|relationship|\n",
              "+--------------------+--------------------+------------+\n",
              "|511f9a53920f4641d...|       Shift Manager|         has|\n",
              "|4955daf0a3facbe2a...|Operations Suppor...|         has|\n",
              "|a0e0d12df1571962b...|Senior Product Ma...|         has|\n",
              "|56e411fd731f76ac9...|Part-Time Office ...|         has|\n",
              "|3fff5c0ad6981bf4b...|Print & Marketing...|         has|\n",
              "|3fcf91a3e406f0727...|Cyber IT Risk & S...|         has|\n",
              "|9e23f19b5e9502a49...|Sales Associate, ...|         has|\n",
              "|f570dac5fa316794e...|Home Lending Bran...|         has|\n",
              "|219550967b49d887a...|Property Manager ...|         has|\n",
              "|de5578ef740fbf9c6...|Compliance Specia...|         has|\n",
              "|7ce7f84570a447126...|Sr. Copywriter - ...|         has|\n",
              "|ee81ae04ff9bc61f9...|Photo Booth Produ...|         has|\n",
              "|793397447e8e4e1d3...|Sales Associate/B...|         has|\n",
              "|4cec79e63ab928ee7...|Prog Cost/Sched C...|         has|\n",
              "|2cad8c0d5f7ae7a7f...|Tax Preparer I St...|         has|\n",
              "|257be205f6302c2b3...|Senior Software E...|         has|\n",
              "|626974b0274beb4c2...|Internet Sales As...|         has|\n",
              "|0c65111509af1dc39...|Sales Associate/B...|         has|\n",
              "|4e998e47943f4d111...|Business Analyst ...|         has|\n",
              "|200c0cb7eb69d1792...|Omni-Channel Asso...|         has|\n",
              "+--------------------+--------------------+------------+\n",
              "only showing top 20 rows"
            ],
            "text/html": [
              "<table border='1'>\n",
              "<tr><th>src</th><th>dst</th><th>relationship</th></tr>\n",
              "<tr><td>511f9a53920f4641d...</td><td>Shift Manager</td><td>has</td></tr>\n",
              "<tr><td>4955daf0a3facbe2a...</td><td>Operations Suppor...</td><td>has</td></tr>\n",
              "<tr><td>a0e0d12df1571962b...</td><td>Senior Product Ma...</td><td>has</td></tr>\n",
              "<tr><td>56e411fd731f76ac9...</td><td>Part-Time Office ...</td><td>has</td></tr>\n",
              "<tr><td>3fff5c0ad6981bf4b...</td><td>Print &amp; Marketing...</td><td>has</td></tr>\n",
              "<tr><td>3fcf91a3e406f0727...</td><td>Cyber IT Risk &amp; S...</td><td>has</td></tr>\n",
              "<tr><td>9e23f19b5e9502a49...</td><td>Sales Associate, ...</td><td>has</td></tr>\n",
              "<tr><td>f570dac5fa316794e...</td><td>Home Lending Bran...</td><td>has</td></tr>\n",
              "<tr><td>219550967b49d887a...</td><td>Property Manager ...</td><td>has</td></tr>\n",
              "<tr><td>de5578ef740fbf9c6...</td><td>Compliance Specia...</td><td>has</td></tr>\n",
              "<tr><td>7ce7f84570a447126...</td><td>Sr. Copywriter - ...</td><td>has</td></tr>\n",
              "<tr><td>ee81ae04ff9bc61f9...</td><td>Photo Booth Produ...</td><td>has</td></tr>\n",
              "<tr><td>793397447e8e4e1d3...</td><td>Sales Associate/B...</td><td>has</td></tr>\n",
              "<tr><td>4cec79e63ab928ee7...</td><td>Prog Cost/Sched C...</td><td>has</td></tr>\n",
              "<tr><td>2cad8c0d5f7ae7a7f...</td><td>Tax Preparer I St...</td><td>has</td></tr>\n",
              "<tr><td>257be205f6302c2b3...</td><td>Senior Software E...</td><td>has</td></tr>\n",
              "<tr><td>626974b0274beb4c2...</td><td>Internet Sales As...</td><td>has</td></tr>\n",
              "<tr><td>0c65111509af1dc39...</td><td>Sales Associate/B...</td><td>has</td></tr>\n",
              "<tr><td>4e998e47943f4d111...</td><td>Business Analyst ...</td><td>has</td></tr>\n",
              "<tr><td>200c0cb7eb69d1792...</td><td>Omni-Channel Asso...</td><td>has</td></tr>\n",
              "</table>\n",
              "only showing top 20 rows\n"
            ]
          },
          "metadata": {},
          "execution_count": 23
        }
      ],
      "source": [
        "edges_job  = spark.sql(\"select `Uniq Id` as src, `Job Title` as dst, 'has' as relationship from df\")\n",
        "edges_job"
      ]
    },
    {
      "cell_type": "code",
      "execution_count": 24,
      "metadata": {
        "colab": {
          "base_uri": "https://localhost:8080/",
          "height": 520
        },
        "id": "e6gFzH1ygkCR",
        "outputId": "463371f9-9fb1-463f-d1c4-bf9f78e4f94e"
      },
      "outputs": [
        {
          "output_type": "execute_result",
          "data": {
            "text/plain": [
              "+--------------------+--------------------+------------+\n",
              "|                 src|                 dst|relationship|\n",
              "+--------------------+--------------------+------------+\n",
              "|511f9a53920f4641d...|multiple responsi...|       wants|\n",
              "|511f9a53920f4641d...|    responsibilities|       wants|\n",
              "|511f9a53920f4641d...|             quality|       wants|\n",
              "|511f9a53920f4641d...|               guest|       wants|\n",
              "|511f9a53920f4641d...|       guest service|       wants|\n",
              "|511f9a53920f4641d...|             service|       wants|\n",
              "|511f9a53920f4641d...|               brand|       wants|\n",
              "|511f9a53920f4641d...|               right|       wants|\n",
              "|511f9a53920f4641d...|         personality|       wants|\n",
              "|511f9a53920f4641d...|               Shift|       wants|\n",
              "|511f9a53920f4641d...|       Shift Manager|       wants|\n",
              "|511f9a53920f4641d...|             Manager|       wants|\n",
              "|511f9a53920f4641d...|Shift Manager pos...|       wants|\n",
              "|511f9a53920f4641d...|    Manager position|       wants|\n",
              "|511f9a53920f4641d...|            position|       wants|\n",
              "|511f9a53920f4641d...|            training|       wants|\n",
              "|511f9a53920f4641d...|             support|       wants|\n",
              "|511f9a53920f4641d...|             advance|       wants|\n",
              "|511f9a53920f4641d...|     evaluate safety|       wants|\n",
              "|511f9a53920f4641d...|              safety|       wants|\n",
              "+--------------------+--------------------+------------+\n",
              "only showing top 20 rows"
            ],
            "text/html": [
              "<table border='1'>\n",
              "<tr><th>src</th><th>dst</th><th>relationship</th></tr>\n",
              "<tr><td>511f9a53920f4641d...</td><td>multiple responsi...</td><td>wants</td></tr>\n",
              "<tr><td>511f9a53920f4641d...</td><td>responsibilities</td><td>wants</td></tr>\n",
              "<tr><td>511f9a53920f4641d...</td><td>quality</td><td>wants</td></tr>\n",
              "<tr><td>511f9a53920f4641d...</td><td>guest</td><td>wants</td></tr>\n",
              "<tr><td>511f9a53920f4641d...</td><td>guest service</td><td>wants</td></tr>\n",
              "<tr><td>511f9a53920f4641d...</td><td>service</td><td>wants</td></tr>\n",
              "<tr><td>511f9a53920f4641d...</td><td>brand</td><td>wants</td></tr>\n",
              "<tr><td>511f9a53920f4641d...</td><td>right</td><td>wants</td></tr>\n",
              "<tr><td>511f9a53920f4641d...</td><td>personality</td><td>wants</td></tr>\n",
              "<tr><td>511f9a53920f4641d...</td><td>Shift</td><td>wants</td></tr>\n",
              "<tr><td>511f9a53920f4641d...</td><td>Shift Manager</td><td>wants</td></tr>\n",
              "<tr><td>511f9a53920f4641d...</td><td>Manager</td><td>wants</td></tr>\n",
              "<tr><td>511f9a53920f4641d...</td><td>Shift Manager pos...</td><td>wants</td></tr>\n",
              "<tr><td>511f9a53920f4641d...</td><td>Manager position</td><td>wants</td></tr>\n",
              "<tr><td>511f9a53920f4641d...</td><td>position</td><td>wants</td></tr>\n",
              "<tr><td>511f9a53920f4641d...</td><td>training</td><td>wants</td></tr>\n",
              "<tr><td>511f9a53920f4641d...</td><td>support</td><td>wants</td></tr>\n",
              "<tr><td>511f9a53920f4641d...</td><td>advance</td><td>wants</td></tr>\n",
              "<tr><td>511f9a53920f4641d...</td><td>evaluate safety</td><td>wants</td></tr>\n",
              "<tr><td>511f9a53920f4641d...</td><td>safety</td><td>wants</td></tr>\n",
              "</table>\n",
              "only showing top 20 rows\n"
            ]
          },
          "metadata": {},
          "execution_count": 24
        }
      ],
      "source": [
        "edges_skills = spark.sql(\"select `Uniq Id` as src ,dst,'wants' as relationship from (select `Uniq Id`, explode(skills) as dst from df)\")\n",
        "edges_skills"
      ]
    },
    {
      "cell_type": "code",
      "execution_count": 25,
      "metadata": {
        "id": "N4EentBg1DYM"
      },
      "outputs": [],
      "source": [
        "vertices_job = spark.sql(\"select distinct `Job Title` as id, 'title' as type from df\")\n",
        "vertices_id = spark.sql(\"select distinct `Uniq Id` as id, 'job' as type from df\")\n",
        "vertices_company = spark.sql(\"select distinct `Company Name` as id,'company' as type from df\")\n",
        "edges_education.createOrReplaceTempView('education')\n",
        "edges_skills.createOrReplaceTempView('skills')\n",
        "vertices_skill = spark.sql(\"select distinct dst as id,'skill' as type from skills\")\n",
        "vertices_education = spark.sql(\"select distinct dst as id, 'education' as type from education\")"
      ]
    },
    {
      "cell_type": "code",
      "execution_count": 26,
      "metadata": {
        "colab": {
          "base_uri": "https://localhost:8080/",
          "height": 520
        },
        "id": "VifUPzIYhEWl",
        "outputId": "696d7f8c-4b9b-4b38-f38b-e7257fdd6336"
      },
      "outputs": [
        {
          "output_type": "execute_result",
          "data": {
            "text/plain": [
              "+--------------------+--------------------+------------+\n",
              "|                 src|                 dst|relationship|\n",
              "+--------------------+--------------------+------------+\n",
              "|511f9a53920f4641d...|        Del Taco LLC|        from|\n",
              "|4955daf0a3facbe2a...|        FOCUS Brands|        from|\n",
              "|a0e0d12df1571962b...|               Vibes|        from|\n",
              "|56e411fd731f76ac9...|Coldwell Banker R...|        from|\n",
              "|3fff5c0ad6981bf4b...|      Staples Stores|        from|\n",
              "|3fcf91a3e406f0727...|            Deloitte|        from|\n",
              "|9e23f19b5e9502a49...|GNC - General Nut...|        from|\n",
              "|f570dac5fa316794e...|         Umpqua Bank|        from|\n",
              "|219550967b49d887a...|  PRG Real Estate PA|        from|\n",
              "|de5578ef740fbf9c6...|                 GTI|        from|\n",
              "|7ce7f84570a447126...|              Clutch|        from|\n",
              "|ee81ae04ff9bc61f9...|The Photo Booth S...|        from|\n",
              "|793397447e8e4e1d3...|Sally Beauty Supp...|        from|\n",
              "|4cec79e63ab928ee7...|     L3 Technologies|        from|\n",
              "|2cad8c0d5f7ae7a7f...|Jackson Hewitt Ta...|        from|\n",
              "|257be205f6302c2b3...|             Kochava|        from|\n",
              "|626974b0274beb4c2...|    Five Star Toyota|        from|\n",
              "|0c65111509af1dc39...|Sally Beauty Supp...|        from|\n",
              "|4e998e47943f4d111...|           Capgemini|        from|\n",
              "|200c0cb7eb69d1792...|            JCPenney|        from|\n",
              "+--------------------+--------------------+------------+\n",
              "only showing top 20 rows"
            ],
            "text/html": [
              "<table border='1'>\n",
              "<tr><th>src</th><th>dst</th><th>relationship</th></tr>\n",
              "<tr><td>511f9a53920f4641d...</td><td>Del Taco LLC</td><td>from</td></tr>\n",
              "<tr><td>4955daf0a3facbe2a...</td><td>FOCUS Brands</td><td>from</td></tr>\n",
              "<tr><td>a0e0d12df1571962b...</td><td>Vibes</td><td>from</td></tr>\n",
              "<tr><td>56e411fd731f76ac9...</td><td>Coldwell Banker R...</td><td>from</td></tr>\n",
              "<tr><td>3fff5c0ad6981bf4b...</td><td>Staples Stores</td><td>from</td></tr>\n",
              "<tr><td>3fcf91a3e406f0727...</td><td>Deloitte</td><td>from</td></tr>\n",
              "<tr><td>9e23f19b5e9502a49...</td><td>GNC - General Nut...</td><td>from</td></tr>\n",
              "<tr><td>f570dac5fa316794e...</td><td>Umpqua Bank</td><td>from</td></tr>\n",
              "<tr><td>219550967b49d887a...</td><td>PRG Real Estate PA</td><td>from</td></tr>\n",
              "<tr><td>de5578ef740fbf9c6...</td><td>GTI</td><td>from</td></tr>\n",
              "<tr><td>7ce7f84570a447126...</td><td>Clutch</td><td>from</td></tr>\n",
              "<tr><td>ee81ae04ff9bc61f9...</td><td>The Photo Booth S...</td><td>from</td></tr>\n",
              "<tr><td>793397447e8e4e1d3...</td><td>Sally Beauty Supp...</td><td>from</td></tr>\n",
              "<tr><td>4cec79e63ab928ee7...</td><td>L3 Technologies</td><td>from</td></tr>\n",
              "<tr><td>2cad8c0d5f7ae7a7f...</td><td>Jackson Hewitt Ta...</td><td>from</td></tr>\n",
              "<tr><td>257be205f6302c2b3...</td><td>Kochava</td><td>from</td></tr>\n",
              "<tr><td>626974b0274beb4c2...</td><td>Five Star Toyota</td><td>from</td></tr>\n",
              "<tr><td>0c65111509af1dc39...</td><td>Sally Beauty Supp...</td><td>from</td></tr>\n",
              "<tr><td>4e998e47943f4d111...</td><td>Capgemini</td><td>from</td></tr>\n",
              "<tr><td>200c0cb7eb69d1792...</td><td>JCPenney</td><td>from</td></tr>\n",
              "</table>\n",
              "only showing top 20 rows\n"
            ]
          },
          "metadata": {},
          "execution_count": 26
        }
      ],
      "source": [
        "edges_company  = spark.sql(\"select `Uniq Id` as src, `Company Name` as dst, 'from' as relationship from df\")\n",
        "edges_company"
      ]
    },
    {
      "cell_type": "code",
      "execution_count": 27,
      "metadata": {
        "colab": {
          "base_uri": "https://localhost:8080/",
          "height": 520
        },
        "id": "S5AuJqRK1id6",
        "outputId": "5500fd93-7e64-4100-92c8-25de3c57729a"
      },
      "outputs": [
        {
          "output_type": "execute_result",
          "data": {
            "text/plain": [
              "+--------------------+-----+\n",
              "|                  id| type|\n",
              "+--------------------+-----+\n",
              "|       Shift Manager|title|\n",
              "|Operations Suppor...|title|\n",
              "|Senior Product Ma...|title|\n",
              "|Part-Time Office ...|title|\n",
              "|Print & Marketing...|title|\n",
              "|Cyber IT Risk & S...|title|\n",
              "|Sales Associate, ...|title|\n",
              "|Home Lending Bran...|title|\n",
              "|Property Manager ...|title|\n",
              "|Compliance Specia...|title|\n",
              "|Sr. Copywriter - ...|title|\n",
              "|Photo Booth Produ...|title|\n",
              "|Sales Associate/B...|title|\n",
              "|Prog Cost/Sched C...|title|\n",
              "|Tax Preparer I St...|title|\n",
              "|Senior Software E...|title|\n",
              "|Internet Sales As...|title|\n",
              "|Business Analyst ...|title|\n",
              "|Omni-Channel Asso...|title|\n",
              "|Mortgage Loan Off...|title|\n",
              "+--------------------+-----+\n",
              "only showing top 20 rows"
            ],
            "text/html": [
              "<table border='1'>\n",
              "<tr><th>id</th><th>type</th></tr>\n",
              "<tr><td>Shift Manager</td><td>title</td></tr>\n",
              "<tr><td>Operations Suppor...</td><td>title</td></tr>\n",
              "<tr><td>Senior Product Ma...</td><td>title</td></tr>\n",
              "<tr><td>Part-Time Office ...</td><td>title</td></tr>\n",
              "<tr><td>Print &amp; Marketing...</td><td>title</td></tr>\n",
              "<tr><td>Cyber IT Risk &amp; S...</td><td>title</td></tr>\n",
              "<tr><td>Sales Associate, ...</td><td>title</td></tr>\n",
              "<tr><td>Home Lending Bran...</td><td>title</td></tr>\n",
              "<tr><td>Property Manager ...</td><td>title</td></tr>\n",
              "<tr><td>Compliance Specia...</td><td>title</td></tr>\n",
              "<tr><td>Sr. Copywriter - ...</td><td>title</td></tr>\n",
              "<tr><td>Photo Booth Produ...</td><td>title</td></tr>\n",
              "<tr><td>Sales Associate/B...</td><td>title</td></tr>\n",
              "<tr><td>Prog Cost/Sched C...</td><td>title</td></tr>\n",
              "<tr><td>Tax Preparer I St...</td><td>title</td></tr>\n",
              "<tr><td>Senior Software E...</td><td>title</td></tr>\n",
              "<tr><td>Internet Sales As...</td><td>title</td></tr>\n",
              "<tr><td>Business Analyst ...</td><td>title</td></tr>\n",
              "<tr><td>Omni-Channel Asso...</td><td>title</td></tr>\n",
              "<tr><td>Mortgage Loan Off...</td><td>title</td></tr>\n",
              "</table>\n",
              "only showing top 20 rows\n"
            ]
          },
          "metadata": {},
          "execution_count": 27
        }
      ],
      "source": [
        "vertices_job"
      ]
    },
    {
      "cell_type": "code",
      "execution_count": 28,
      "metadata": {
        "colab": {
          "base_uri": "https://localhost:8080/",
          "height": 520
        },
        "id": "JPecOT-S5IbI",
        "outputId": "a5b09821-d479-44f0-ec22-4ff95575cef4"
      },
      "outputs": [
        {
          "output_type": "execute_result",
          "data": {
            "text/plain": [
              "+--------------------+-------+\n",
              "|                  id|   type|\n",
              "+--------------------+-------+\n",
              "|        Del Taco LLC|company|\n",
              "|        FOCUS Brands|company|\n",
              "|               Vibes|company|\n",
              "|Coldwell Banker R...|company|\n",
              "|      Staples Stores|company|\n",
              "|            Deloitte|company|\n",
              "|GNC - General Nut...|company|\n",
              "|         Umpqua Bank|company|\n",
              "|  PRG Real Estate PA|company|\n",
              "|                 GTI|company|\n",
              "|              Clutch|company|\n",
              "|The Photo Booth S...|company|\n",
              "|Sally Beauty Supp...|company|\n",
              "|     L3 Technologies|company|\n",
              "|Jackson Hewitt Ta...|company|\n",
              "|             Kochava|company|\n",
              "|    Five Star Toyota|company|\n",
              "|           Capgemini|company|\n",
              "|            JCPenney|company|\n",
              "|     Bank of England|company|\n",
              "+--------------------+-------+\n",
              "only showing top 20 rows"
            ],
            "text/html": [
              "<table border='1'>\n",
              "<tr><th>id</th><th>type</th></tr>\n",
              "<tr><td>Del Taco LLC</td><td>company</td></tr>\n",
              "<tr><td>FOCUS Brands</td><td>company</td></tr>\n",
              "<tr><td>Vibes</td><td>company</td></tr>\n",
              "<tr><td>Coldwell Banker R...</td><td>company</td></tr>\n",
              "<tr><td>Staples Stores</td><td>company</td></tr>\n",
              "<tr><td>Deloitte</td><td>company</td></tr>\n",
              "<tr><td>GNC - General Nut...</td><td>company</td></tr>\n",
              "<tr><td>Umpqua Bank</td><td>company</td></tr>\n",
              "<tr><td>PRG Real Estate PA</td><td>company</td></tr>\n",
              "<tr><td>GTI</td><td>company</td></tr>\n",
              "<tr><td>Clutch</td><td>company</td></tr>\n",
              "<tr><td>The Photo Booth S...</td><td>company</td></tr>\n",
              "<tr><td>Sally Beauty Supp...</td><td>company</td></tr>\n",
              "<tr><td>L3 Technologies</td><td>company</td></tr>\n",
              "<tr><td>Jackson Hewitt Ta...</td><td>company</td></tr>\n",
              "<tr><td>Kochava</td><td>company</td></tr>\n",
              "<tr><td>Five Star Toyota</td><td>company</td></tr>\n",
              "<tr><td>Capgemini</td><td>company</td></tr>\n",
              "<tr><td>JCPenney</td><td>company</td></tr>\n",
              "<tr><td>Bank of England</td><td>company</td></tr>\n",
              "</table>\n",
              "only showing top 20 rows\n"
            ]
          },
          "metadata": {},
          "execution_count": 28
        }
      ],
      "source": [
        "vertices_company"
      ]
    },
    {
      "cell_type": "code",
      "execution_count": 29,
      "metadata": {
        "colab": {
          "base_uri": "https://localhost:8080/",
          "height": 520
        },
        "id": "x88SsEnx5IuN",
        "outputId": "844f1932-f1f0-4ac8-c557-83adc75f6c80"
      },
      "outputs": [
        {
          "output_type": "execute_result",
          "data": {
            "text/plain": [
              "+--------------------+-----+\n",
              "|                  id| type|\n",
              "+--------------------+-----+\n",
              "|multiple responsi...|skill|\n",
              "|    responsibilities|skill|\n",
              "|             quality|skill|\n",
              "|               guest|skill|\n",
              "|       guest service|skill|\n",
              "|             service|skill|\n",
              "|               brand|skill|\n",
              "|               right|skill|\n",
              "|         personality|skill|\n",
              "|               Shift|skill|\n",
              "|       Shift Manager|skill|\n",
              "|             Manager|skill|\n",
              "|Shift Manager pos...|skill|\n",
              "|    Manager position|skill|\n",
              "|            position|skill|\n",
              "|            training|skill|\n",
              "|             support|skill|\n",
              "|             advance|skill|\n",
              "|     evaluate safety|skill|\n",
              "|              safety|skill|\n",
              "+--------------------+-----+\n",
              "only showing top 20 rows"
            ],
            "text/html": [
              "<table border='1'>\n",
              "<tr><th>id</th><th>type</th></tr>\n",
              "<tr><td>multiple responsi...</td><td>skill</td></tr>\n",
              "<tr><td>responsibilities</td><td>skill</td></tr>\n",
              "<tr><td>quality</td><td>skill</td></tr>\n",
              "<tr><td>guest</td><td>skill</td></tr>\n",
              "<tr><td>guest service</td><td>skill</td></tr>\n",
              "<tr><td>service</td><td>skill</td></tr>\n",
              "<tr><td>brand</td><td>skill</td></tr>\n",
              "<tr><td>right</td><td>skill</td></tr>\n",
              "<tr><td>personality</td><td>skill</td></tr>\n",
              "<tr><td>Shift</td><td>skill</td></tr>\n",
              "<tr><td>Shift Manager</td><td>skill</td></tr>\n",
              "<tr><td>Manager</td><td>skill</td></tr>\n",
              "<tr><td>Shift Manager pos...</td><td>skill</td></tr>\n",
              "<tr><td>Manager position</td><td>skill</td></tr>\n",
              "<tr><td>position</td><td>skill</td></tr>\n",
              "<tr><td>training</td><td>skill</td></tr>\n",
              "<tr><td>support</td><td>skill</td></tr>\n",
              "<tr><td>advance</td><td>skill</td></tr>\n",
              "<tr><td>evaluate safety</td><td>skill</td></tr>\n",
              "<tr><td>safety</td><td>skill</td></tr>\n",
              "</table>\n",
              "only showing top 20 rows\n"
            ]
          },
          "metadata": {},
          "execution_count": 29
        }
      ],
      "source": [
        "vertices_skill"
      ]
    },
    {
      "cell_type": "code",
      "execution_count": 30,
      "metadata": {
        "colab": {
          "base_uri": "https://localhost:8080/",
          "height": 520
        },
        "id": "5ggDKDMwPN0a",
        "outputId": "afdbdfb3-529e-40c1-ab62-9fa0a444a845"
      },
      "outputs": [
        {
          "output_type": "execute_result",
          "data": {
            "text/plain": [
              "+--------------------+----+\n",
              "|                  id|type|\n",
              "+--------------------+----+\n",
              "|511f9a53920f4641d...| job|\n",
              "|4955daf0a3facbe2a...| job|\n",
              "|a0e0d12df1571962b...| job|\n",
              "|56e411fd731f76ac9...| job|\n",
              "|3fff5c0ad6981bf4b...| job|\n",
              "|3fcf91a3e406f0727...| job|\n",
              "|9e23f19b5e9502a49...| job|\n",
              "|f570dac5fa316794e...| job|\n",
              "|219550967b49d887a...| job|\n",
              "|de5578ef740fbf9c6...| job|\n",
              "|7ce7f84570a447126...| job|\n",
              "|ee81ae04ff9bc61f9...| job|\n",
              "|793397447e8e4e1d3...| job|\n",
              "|4cec79e63ab928ee7...| job|\n",
              "|2cad8c0d5f7ae7a7f...| job|\n",
              "|257be205f6302c2b3...| job|\n",
              "|626974b0274beb4c2...| job|\n",
              "|0c65111509af1dc39...| job|\n",
              "|4e998e47943f4d111...| job|\n",
              "|200c0cb7eb69d1792...| job|\n",
              "+--------------------+----+\n",
              "only showing top 20 rows"
            ],
            "text/html": [
              "<table border='1'>\n",
              "<tr><th>id</th><th>type</th></tr>\n",
              "<tr><td>511f9a53920f4641d...</td><td>job</td></tr>\n",
              "<tr><td>4955daf0a3facbe2a...</td><td>job</td></tr>\n",
              "<tr><td>a0e0d12df1571962b...</td><td>job</td></tr>\n",
              "<tr><td>56e411fd731f76ac9...</td><td>job</td></tr>\n",
              "<tr><td>3fff5c0ad6981bf4b...</td><td>job</td></tr>\n",
              "<tr><td>3fcf91a3e406f0727...</td><td>job</td></tr>\n",
              "<tr><td>9e23f19b5e9502a49...</td><td>job</td></tr>\n",
              "<tr><td>f570dac5fa316794e...</td><td>job</td></tr>\n",
              "<tr><td>219550967b49d887a...</td><td>job</td></tr>\n",
              "<tr><td>de5578ef740fbf9c6...</td><td>job</td></tr>\n",
              "<tr><td>7ce7f84570a447126...</td><td>job</td></tr>\n",
              "<tr><td>ee81ae04ff9bc61f9...</td><td>job</td></tr>\n",
              "<tr><td>793397447e8e4e1d3...</td><td>job</td></tr>\n",
              "<tr><td>4cec79e63ab928ee7...</td><td>job</td></tr>\n",
              "<tr><td>2cad8c0d5f7ae7a7f...</td><td>job</td></tr>\n",
              "<tr><td>257be205f6302c2b3...</td><td>job</td></tr>\n",
              "<tr><td>626974b0274beb4c2...</td><td>job</td></tr>\n",
              "<tr><td>0c65111509af1dc39...</td><td>job</td></tr>\n",
              "<tr><td>4e998e47943f4d111...</td><td>job</td></tr>\n",
              "<tr><td>200c0cb7eb69d1792...</td><td>job</td></tr>\n",
              "</table>\n",
              "only showing top 20 rows\n"
            ]
          },
          "metadata": {},
          "execution_count": 30
        }
      ],
      "source": [
        "vertices_id"
      ]
    },
    {
      "cell_type": "code",
      "execution_count": 31,
      "metadata": {
        "colab": {
          "base_uri": "https://localhost:8080/",
          "height": 411
        },
        "id": "o6EDVNV85Iy9",
        "outputId": "3e942591-42a5-4d8b-9972-a8bbfa03c7ec"
      },
      "outputs": [
        {
          "output_type": "execute_result",
          "data": {
            "text/plain": [
              "+-----------+---------+\n",
              "|         id|     type|\n",
              "+-----------+---------+\n",
              "|high school|education|\n",
              "|    diploma|education|\n",
              "|     degree|education|\n",
              "| associates|education|\n",
              "| bachelor's|education|\n",
              "| bachelor’s|education|\n",
              "|    college|education|\n",
              "|         ms|education|\n",
              "|         bs|education|\n",
              "|   bachelor|education|\n",
              "|associate’s|education|\n",
              "|     master|education|\n",
              "|   master's|education|\n",
              "| university|education|\n",
              "|        phd|education|\n",
              "|         jd|education|\n",
              "+-----------+---------+"
            ],
            "text/html": [
              "<table border='1'>\n",
              "<tr><th>id</th><th>type</th></tr>\n",
              "<tr><td>high school</td><td>education</td></tr>\n",
              "<tr><td>diploma</td><td>education</td></tr>\n",
              "<tr><td>degree</td><td>education</td></tr>\n",
              "<tr><td>associates</td><td>education</td></tr>\n",
              "<tr><td>bachelor&#x27;s</td><td>education</td></tr>\n",
              "<tr><td>bachelor’s</td><td>education</td></tr>\n",
              "<tr><td>college</td><td>education</td></tr>\n",
              "<tr><td>ms</td><td>education</td></tr>\n",
              "<tr><td>bs</td><td>education</td></tr>\n",
              "<tr><td>bachelor</td><td>education</td></tr>\n",
              "<tr><td>associate’s</td><td>education</td></tr>\n",
              "<tr><td>master</td><td>education</td></tr>\n",
              "<tr><td>master&#x27;s</td><td>education</td></tr>\n",
              "<tr><td>university</td><td>education</td></tr>\n",
              "<tr><td>phd</td><td>education</td></tr>\n",
              "<tr><td>jd</td><td>education</td></tr>\n",
              "</table>\n"
            ]
          },
          "metadata": {},
          "execution_count": 31
        }
      ],
      "source": [
        "edges_education.createOrReplaceTempView('education')\n",
        "vertices_education = spark.sql(\"select distinct dst as id, 'education' as type from education\")\n",
        "vertices_education"
      ]
    },
    {
      "cell_type": "code",
      "execution_count": 32,
      "metadata": {
        "colab": {
          "base_uri": "https://localhost:8080/",
          "height": 520
        },
        "id": "xxj3riUp5I2a",
        "outputId": "65ffa727-32d5-4ea3-c9cf-c43c93def633"
      },
      "outputs": [
        {
          "output_type": "execute_result",
          "data": {
            "text/plain": [
              "+--------------------+----+\n",
              "|                  id|type|\n",
              "+--------------------+----+\n",
              "|511f9a53920f4641d...| job|\n",
              "|4955daf0a3facbe2a...| job|\n",
              "|a0e0d12df1571962b...| job|\n",
              "|56e411fd731f76ac9...| job|\n",
              "|3fff5c0ad6981bf4b...| job|\n",
              "|3fcf91a3e406f0727...| job|\n",
              "|9e23f19b5e9502a49...| job|\n",
              "|f570dac5fa316794e...| job|\n",
              "|219550967b49d887a...| job|\n",
              "|de5578ef740fbf9c6...| job|\n",
              "|7ce7f84570a447126...| job|\n",
              "|ee81ae04ff9bc61f9...| job|\n",
              "|793397447e8e4e1d3...| job|\n",
              "|4cec79e63ab928ee7...| job|\n",
              "|2cad8c0d5f7ae7a7f...| job|\n",
              "|257be205f6302c2b3...| job|\n",
              "|626974b0274beb4c2...| job|\n",
              "|0c65111509af1dc39...| job|\n",
              "|4e998e47943f4d111...| job|\n",
              "|200c0cb7eb69d1792...| job|\n",
              "+--------------------+----+\n",
              "only showing top 20 rows"
            ],
            "text/html": [
              "<table border='1'>\n",
              "<tr><th>id</th><th>type</th></tr>\n",
              "<tr><td>511f9a53920f4641d...</td><td>job</td></tr>\n",
              "<tr><td>4955daf0a3facbe2a...</td><td>job</td></tr>\n",
              "<tr><td>a0e0d12df1571962b...</td><td>job</td></tr>\n",
              "<tr><td>56e411fd731f76ac9...</td><td>job</td></tr>\n",
              "<tr><td>3fff5c0ad6981bf4b...</td><td>job</td></tr>\n",
              "<tr><td>3fcf91a3e406f0727...</td><td>job</td></tr>\n",
              "<tr><td>9e23f19b5e9502a49...</td><td>job</td></tr>\n",
              "<tr><td>f570dac5fa316794e...</td><td>job</td></tr>\n",
              "<tr><td>219550967b49d887a...</td><td>job</td></tr>\n",
              "<tr><td>de5578ef740fbf9c6...</td><td>job</td></tr>\n",
              "<tr><td>7ce7f84570a447126...</td><td>job</td></tr>\n",
              "<tr><td>ee81ae04ff9bc61f9...</td><td>job</td></tr>\n",
              "<tr><td>793397447e8e4e1d3...</td><td>job</td></tr>\n",
              "<tr><td>4cec79e63ab928ee7...</td><td>job</td></tr>\n",
              "<tr><td>2cad8c0d5f7ae7a7f...</td><td>job</td></tr>\n",
              "<tr><td>257be205f6302c2b3...</td><td>job</td></tr>\n",
              "<tr><td>626974b0274beb4c2...</td><td>job</td></tr>\n",
              "<tr><td>0c65111509af1dc39...</td><td>job</td></tr>\n",
              "<tr><td>4e998e47943f4d111...</td><td>job</td></tr>\n",
              "<tr><td>200c0cb7eb69d1792...</td><td>job</td></tr>\n",
              "</table>\n",
              "only showing top 20 rows\n"
            ]
          },
          "metadata": {},
          "execution_count": 32
        }
      ],
      "source": [
        "vertices = (((vertices_id.union(vertices_education)).union(vertices_job)).union(vertices_company)).union(vertices_skill)\n",
        "edges = ((edges_job.union(edges_company)).union(edges_education)).union(edges_skills)\n",
        "vertices"
      ]
    },
    {
      "cell_type": "code",
      "execution_count": null,
      "metadata": {
        "colab": {
          "base_uri": "https://localhost:8080/",
          "height": 520
        },
        "id": "zJbgsccSP2Ut",
        "outputId": "1df18dd6-99fe-4808-c178-f78af255afb9"
      },
      "outputs": [
        {
          "output_type": "execute_result",
          "data": {
            "text/plain": [
              "+--------------------+--------------------+------------+\n",
              "|                 src|                 dst|relationship|\n",
              "+--------------------+--------------------+------------+\n",
              "|511f9a53920f4641d...|       Shift Manager|         has|\n",
              "|4955daf0a3facbe2a...|Operations Suppor...|         has|\n",
              "|a0e0d12df1571962b...|Senior Product Ma...|         has|\n",
              "|56e411fd731f76ac9...|Part-Time Office ...|         has|\n",
              "|3fff5c0ad6981bf4b...|Print & Marketing...|         has|\n",
              "|511f9a53920f4641d...|        Del Taco LLC|        from|\n",
              "|4955daf0a3facbe2a...|        FOCUS Brands|        from|\n",
              "|a0e0d12df1571962b...|               Vibes|        from|\n",
              "|56e411fd731f76ac9...|Coldwell Banker R...|        from|\n",
              "|3fff5c0ad6981bf4b...|      Staples Stores|        from|\n",
              "|511f9a53920f4641d...|         high school|    requires|\n",
              "|511f9a53920f4641d...|             diploma|    requires|\n",
              "|56e411fd731f76ac9...|         high school|    requires|\n",
              "|56e411fd731f76ac9...|             diploma|    requires|\n",
              "|3fff5c0ad6981bf4b...|              degree|    requires|\n",
              "|511f9a53920f4641d...|multiple responsi...|       wants|\n",
              "|511f9a53920f4641d...|    responsibilities|       wants|\n",
              "|511f9a53920f4641d...|             quality|       wants|\n",
              "|511f9a53920f4641d...|               guest|       wants|\n",
              "|511f9a53920f4641d...|       guest service|       wants|\n",
              "+--------------------+--------------------+------------+\n",
              "only showing top 20 rows"
            ],
            "text/html": [
              "<table border='1'>\n",
              "<tr><th>src</th><th>dst</th><th>relationship</th></tr>\n",
              "<tr><td>511f9a53920f4641d...</td><td>Shift Manager</td><td>has</td></tr>\n",
              "<tr><td>4955daf0a3facbe2a...</td><td>Operations Suppor...</td><td>has</td></tr>\n",
              "<tr><td>a0e0d12df1571962b...</td><td>Senior Product Ma...</td><td>has</td></tr>\n",
              "<tr><td>56e411fd731f76ac9...</td><td>Part-Time Office ...</td><td>has</td></tr>\n",
              "<tr><td>3fff5c0ad6981bf4b...</td><td>Print &amp; Marketing...</td><td>has</td></tr>\n",
              "<tr><td>511f9a53920f4641d...</td><td>Del Taco LLC</td><td>from</td></tr>\n",
              "<tr><td>4955daf0a3facbe2a...</td><td>FOCUS Brands</td><td>from</td></tr>\n",
              "<tr><td>a0e0d12df1571962b...</td><td>Vibes</td><td>from</td></tr>\n",
              "<tr><td>56e411fd731f76ac9...</td><td>Coldwell Banker R...</td><td>from</td></tr>\n",
              "<tr><td>3fff5c0ad6981bf4b...</td><td>Staples Stores</td><td>from</td></tr>\n",
              "<tr><td>511f9a53920f4641d...</td><td>high school</td><td>requires</td></tr>\n",
              "<tr><td>511f9a53920f4641d...</td><td>diploma</td><td>requires</td></tr>\n",
              "<tr><td>56e411fd731f76ac9...</td><td>high school</td><td>requires</td></tr>\n",
              "<tr><td>56e411fd731f76ac9...</td><td>diploma</td><td>requires</td></tr>\n",
              "<tr><td>3fff5c0ad6981bf4b...</td><td>degree</td><td>requires</td></tr>\n",
              "<tr><td>511f9a53920f4641d...</td><td>multiple responsi...</td><td>wants</td></tr>\n",
              "<tr><td>511f9a53920f4641d...</td><td>responsibilities</td><td>wants</td></tr>\n",
              "<tr><td>511f9a53920f4641d...</td><td>quality</td><td>wants</td></tr>\n",
              "<tr><td>511f9a53920f4641d...</td><td>guest</td><td>wants</td></tr>\n",
              "<tr><td>511f9a53920f4641d...</td><td>guest service</td><td>wants</td></tr>\n",
              "</table>\n",
              "only showing top 20 rows\n"
            ]
          },
          "metadata": {},
          "execution_count": 31
        }
      ],
      "source": [
        "edges"
      ]
    },
    {
      "cell_type": "code",
      "execution_count": 36,
      "metadata": {
        "id": "g2yCSdkVQRb2"
      },
      "outputs": [],
      "source": [
        "from graphframes import GraphFrame\n",
        "\n",
        "g = GraphFrame(vertices, edges)\n",
        "results = g.parallelPersonalizedPageRank(resetProbability=0.15, sourceIds=[\"4955daf0a3facbe2acb6c429ba394e6d\"], maxIter=10)\n"
      ]
    },
    {
      "cell_type": "code",
      "source": [
        "from pyspark.sql.functions import desc\n",
        "results_df = results.filterVertices(\"type = 'skill'\").vertices.select(\"id\", \"pageranks\").orderBy(desc(col(\"pageranks\")))\n",
        "results_df.show()"
      ],
      "metadata": {
        "colab": {
          "base_uri": "https://localhost:8080/"
        },
        "id": "trzJVzGVuQpj",
        "outputId": "2bd61350-30f6-401e-82d5-59d37ceaf330"
      },
      "execution_count": null,
      "outputs": [
        {
          "output_type": "stream",
          "name": "stdout",
          "text": [
            "+--------------------+--------------------+\n",
            "|                  id|           pageranks|\n",
            "+--------------------+--------------------+\n",
            "|          management|(1,[0],[0.0106029...|\n",
            "|          completion|(1,[0],[0.0106029...|\n",
            "|         information|(1,[0],[0.0106029...|\n",
            "|       communication|(1,[0],[0.0106029...|\n",
            "|              making|(1,[0],[0.0070686...|\n",
            "|          restaurant|(1,[0],[0.0070686...|\n",
            "|     decision making|(1,[0],[0.0070686...|\n",
            "|           Microsoft|(1,[0],[0.0070686...|\n",
            "|           EDUCATION|(1,[0],[0.0070686...|\n",
            "|              manner|(1,[0],[0.0070686...|\n",
            "|            analysis|(1,[0],[0.0070686...|\n",
            "|       data analysis|(1,[0],[0.0070686...|\n",
            "|                team|(1,[0],[0.0070686...|\n",
            "|     time management|(1,[0],[0.0070686...|\n",
            "|            thoughts|(1,[0],[0.0035343...|\n",
            "|            decision|(1,[0],[0.0035343...|\n",
            "|external relation...|(1,[0],[0.0035343...|\n",
            "|               Excel|(1,[0],[0.0035343...|\n",
            "|            judgment|(1,[0],[0.0035343...|\n",
            "|           work load|(1,[0],[0.0035343...|\n",
            "+--------------------+--------------------+\n",
            "only showing top 20 rows\n",
            "\n"
          ]
        }
      ]
    },
    {
      "cell_type": "code",
      "source": [
        "df.select('Uniq Id').limit(2).collect()[1]['Uniq Id']\n"
      ],
      "metadata": {
        "id": "HYtQDz5VjOgt",
        "colab": {
          "base_uri": "https://localhost:8080/",
          "height": 35
        },
        "outputId": "a55d0872-8ca8-435e-e151-f7f8fc12d329"
      },
      "execution_count": null,
      "outputs": [
        {
          "output_type": "execute_result",
          "data": {
            "text/plain": [
              "'4955daf0a3facbe2acb6c429ba394e6d'"
            ],
            "application/vnd.google.colaboratory.intrinsic+json": {
              "type": "string"
            }
          },
          "metadata": {},
          "execution_count": 43
        }
      ]
    },
    {
      "cell_type": "code",
      "source": [
        "motifs = g.find(\"(a)-[e]->(b)\").filter(\"b.id == 'Shift Manager'\").filter(\"b.type = 'title'\")\n",
        "motifs.show()"
      ],
      "metadata": {
        "colab": {
          "base_uri": "https://localhost:8080/"
        },
        "id": "RrZMimh_jc5Q",
        "outputId": "1d1256d0-24a3-4575-e011-f8d870b9d8ff"
      },
      "execution_count": 38,
      "outputs": [
        {
          "output_type": "stream",
          "name": "stderr",
          "text": [
            "/usr/local/lib/python3.10/dist-packages/pyspark/sql/dataframe.py:148: UserWarning: DataFrame constructor is internal. Do not directly use it.\n",
            "  warnings.warn(\"DataFrame constructor is internal. Do not directly use it.\")\n"
          ]
        },
        {
          "output_type": "stream",
          "name": "stdout",
          "text": [
            "+--------------------+--------------------+--------------------+\n",
            "|                   a|                   e|                   b|\n",
            "+--------------------+--------------------+--------------------+\n",
            "|{511f9a53920f4641...|{511f9a53920f4641...|{Shift Manager, t...|\n",
            "|{511f9a53920f4641...|{511f9a53920f4641...|{Shift Manager, t...|\n",
            "+--------------------+--------------------+--------------------+\n",
            "\n"
          ]
        }
      ]
    },
    {
      "cell_type": "code",
      "source": [
        "for element in motifs.limit(5).collect():\n",
        "  print(element['a'],element['e'],element['b'])\n"
      ],
      "metadata": {
        "colab": {
          "base_uri": "https://localhost:8080/"
        },
        "id": "XunWMtdJvmiX",
        "outputId": "88295785-9a52-4a60-e840-a83f63c8218b"
      },
      "execution_count": 39,
      "outputs": [
        {
          "output_type": "stream",
          "name": "stdout",
          "text": [
            "Row(id='511f9a53920f4641d701d51d3589349f', type='job') Row(src='511f9a53920f4641d701d51d3589349f', dst='Shift Manager', relationship='has') Row(id='Shift Manager', type='title')\n",
            "Row(id='511f9a53920f4641d701d51d3589349f', type='job') Row(src='511f9a53920f4641d701d51d3589349f', dst='Shift Manager', relationship='wants') Row(id='Shift Manager', type='title')\n"
          ]
        }
      ]
    },
    {
      "cell_type": "code",
      "source": [
        "\n",
        "def recommendation_jobs(skills_list, company_list,title_list):\n",
        "  counter = 0\n",
        "  jobs_ids_total = None\n",
        "  for skill in skills_list:\n",
        "    job_ids = g.find(\"(a)-[e]->(b)\").filter(col('b.id') == skill).filter(\"b.type = 'skill'\").filter(\"e.relationship ='wants'\").select('a')\n",
        "    if counter == 0:\n",
        "      job_ids_total = job_ids\n",
        "    else:\n",
        "      job_ids_total = job_ids_total.union(job_ids)\n",
        "    counter+=1\n",
        "  \n",
        "  for company in company_list:\n",
        "    job_ids = g.find(\"(a)-[e]->(b)\").filter(col('b.id') == company).filter(\"b.type = 'company'\").filter(\"e.relationship ='from'\").select('a')\n",
        "    job_ids_total = job_ids_total.union(job_ids)\n",
        "    \n",
        "  for title in title_list:\n",
        "    job_ids = g.find(\"(a)-[e]->(b)\").filter(col('b.id') == title).filter(\"b.type = 'title'\").filter(\"e.relationship ='has'\").select('a')\n",
        "    job_ids_total = job_ids_total.union(job_ids)\n",
        "\n",
        " # job_ids_total.createOrReplaceTempView('recommendations')\n",
        " # job_recommendations = spark.sql(\"select a as job, count(job) as relevancy from recommendations group by job order by relevancy desc\")\n",
        "\n",
        "  return job_ids_total\n",
        "  \n",
        "  \n",
        "\n",
        "\n",
        "\n",
        "    \n",
        "\n"
      ],
      "metadata": {
        "id": "in9N-hUhvt8b"
      },
      "execution_count": 90,
      "outputs": []
    },
    {
      "cell_type": "code",
      "source": [
        "skill = 'Shift Manager'\n",
        "job_ids = g.find(\"(a)-[e]->(b)\").filter(col('b.id') == skill).filter(\"b.type = 'skill'\").filter(\"e.relationship ='wants'\").select('a').show()"
      ],
      "metadata": {
        "colab": {
          "base_uri": "https://localhost:8080/"
        },
        "id": "8xg6_4YjPwqx",
        "outputId": "7732305f-d8b7-4766-d552-d0b3584586bd"
      },
      "execution_count": 70,
      "outputs": [
        {
          "output_type": "stream",
          "name": "stderr",
          "text": [
            "/usr/local/lib/python3.10/dist-packages/pyspark/sql/dataframe.py:148: UserWarning: DataFrame constructor is internal. Do not directly use it.\n",
            "  warnings.warn(\"DataFrame constructor is internal. Do not directly use it.\")\n"
          ]
        },
        {
          "output_type": "stream",
          "name": "stdout",
          "text": [
            "+--------------------+\n",
            "|                   a|\n",
            "+--------------------+\n",
            "|{511f9a53920f4641...|\n",
            "+--------------------+\n",
            "\n"
          ]
        }
      ]
    },
    {
      "cell_type": "code",
      "source": [
        "#skills = [\"personality\",\"manager\",\"shift\",\"software\"]\n",
        "#companies = [\"Microsoft\",\"Amazon\",\"L3 Technologies\"]\n",
        "#title = [\"Shift Manager\",\"Senior Product Manager\"]\n",
        "#test_df = recommendation_jobs(skills,companies,title)\n",
        "#test_df.show()"
      ],
      "metadata": {
        "colab": {
          "base_uri": "https://localhost:8080/"
        },
        "id": "IghEubJtnCkZ",
        "outputId": "d9eae444-7574-49d0-f4db-99b06c6da9c7"
      },
      "execution_count": 91,
      "outputs": [
        {
          "output_type": "stream",
          "name": "stderr",
          "text": [
            "/usr/local/lib/python3.10/dist-packages/pyspark/sql/dataframe.py:148: UserWarning: DataFrame constructor is internal. Do not directly use it.\n",
            "  warnings.warn(\"DataFrame constructor is internal. Do not directly use it.\")\n"
          ]
        },
        {
          "output_type": "stream",
          "name": "stdout",
          "text": [
            "+--------------------+\n",
            "|                   a|\n",
            "+--------------------+\n",
            "|{511f9a53920f4641...|\n",
            "|{793397447e8e4e1d...|\n",
            "|{0c65111509af1dc3...|\n",
            "|{7a19182b1d1262f1...|\n",
            "|{d2d3039ff4e66554...|\n",
            "|{bb8e071ff810afe6...|\n",
            "|{15694d22b04be76e...|\n",
            "|{15694d22b04be76e...|\n",
            "|{511f9a53920f4641...|\n",
            "|{432df6aef8aedd09...|\n",
            "|{31c2cda065a0a601...|\n",
            "|{227c0bf5a4c00c2b...|\n",
            "|{511f9a53920f4641...|\n",
            "|{56e411fd731f76ac...|\n",
            "|{4cec79e63ab928ee...|\n",
            "|{257be205f6302c2b...|\n",
            "|{257be205f6302c2b...|\n",
            "|{0a97b373c8787c58...|\n",
            "|{f56b6d03522cea95...|\n",
            "|{f56b6d03522cea95...|\n",
            "+--------------------+\n",
            "only showing top 20 rows\n",
            "\n"
          ]
        }
      ]
    },
    {
      "cell_type": "code",
      "source": [
        "\n",
        "test_df.createOrReplaceTempView('recommendations')\n",
        "job_recommendations = spark.sql(\"select a as job, count(a) as relevancy from recommendations group by job order by relevancy desc\")\n",
        "job_recommendations.show()"
      ],
      "metadata": {
        "colab": {
          "base_uri": "https://localhost:8080/"
        },
        "id": "omtzxQcfwH7M",
        "outputId": "50d6f9c4-11d2-4a8c-d84d-4a2c245c044f"
      },
      "execution_count": 94,
      "outputs": [
        {
          "output_type": "stream",
          "name": "stdout",
          "text": [
            "+--------------------+---------+\n",
            "|                 job|relevancy|\n",
            "+--------------------+---------+\n",
            "|{511f9a53920f4641...|        4|\n",
            "|{b9344cd5ddc877bd...|        3|\n",
            "|{15694d22b04be76e...|        2|\n",
            "|{227c0bf5a4c00c2b...|        2|\n",
            "|{31c2cda065a0a601...|        2|\n",
            "|{0f6e2dea0707ab03...|        2|\n",
            "|{5780101c8d94f254...|        2|\n",
            "|{4cec79e63ab928ee...|        2|\n",
            "|{a12bd62cba364e44...|        2|\n",
            "|{51e36e93e9620948...|        2|\n",
            "|{70cda6840fcaec35...|        2|\n",
            "|{d7ea216b16c048b4...|        2|\n",
            "|{428af962f7fdbaa1...|        2|\n",
            "|{f56b6d03522cea95...|        2|\n",
            "|{dfbe38c0525ed3bf...|        2|\n",
            "|{257be205f6302c2b...|        2|\n",
            "|{f87b8a6a5c4daf02...|        2|\n",
            "|{7a19182b1d1262f1...|        1|\n",
            "|{793397447e8e4e1d...|        1|\n",
            "|{d2d3039ff4e66554...|        1|\n",
            "+--------------------+---------+\n",
            "only showing top 20 rows\n",
            "\n"
          ]
        }
      ]
    },
    {
      "cell_type": "code",
      "source": [
        "\n",
        "results = g.parallelPersonalizedPageRank(resetProbability=0.15, sourceIds=[\"511f9a53920f4641d701d51d3589349f\"], maxIter=10)\n"
      ],
      "metadata": {
        "id": "C7XoYamPwRJy"
      },
      "execution_count": 97,
      "outputs": []
    },
    {
      "cell_type": "code",
      "source": [
        "from pyspark.sql.functions import desc\n",
        "results_df = results.filterVertices(\"type = 'skill'\").vertices.select(\"id\", \"pageranks\").orderBy(desc(col(\"pageranks\")))\n",
        "results_df.show()"
      ],
      "metadata": {
        "colab": {
          "base_uri": "https://localhost:8080/"
        },
        "id": "q_c35n7S1d2z",
        "outputId": "2cfab8b9-8e69-46b5-9509-b7d9644697e2"
      },
      "execution_count": 99,
      "outputs": [
        {
          "output_type": "stream",
          "name": "stdout",
          "text": [
            "+--------------------+--------------------+\n",
            "|                  id|           pageranks|\n",
            "+--------------------+--------------------+\n",
            "|               guest|(1,[0],[0.0130035...|\n",
            "|             service|(1,[0],[0.0130035...|\n",
            "|              safety|(1,[0],[0.0086690...|\n",
            "|       Shift Manager|(1,[0],[0.0086690...|\n",
            "|               years|(1,[0],[0.0086690...|\n",
            "|       guest service|(1,[0],[0.0065017...|\n",
            "|                math|(1,[0],[0.0043345...|\n",
            "|             quality|(1,[0],[0.0043345...|\n",
            "|          restaurant|(1,[0],[0.0043345...|\n",
            "|         environment|(1,[0],[0.0043345...|\n",
            "|       amazing guest|(1,[0],[0.0043345...|\n",
            "|             diploma|(1,[0],[0.0043345...|\n",
            "|             company|(1,[0],[0.0043345...|\n",
            "|              guests|(1,[0],[0.0043345...|\n",
            "|      Organizational|(1,[0],[0.0043345...|\n",
            "|              Strong|(1,[0],[0.0043345...|\n",
            "| basic business math|(1,[0],[0.0043345...|\n",
            "|            Teamwork|(1,[0],[0.0043345...|\n",
            "|       business math|(1,[0],[0.0043345...|\n",
            "|Strong Organizati...|(1,[0],[0.0043345...|\n",
            "+--------------------+--------------------+\n",
            "only showing top 20 rows\n",
            "\n"
          ]
        }
      ]
    },
    {
      "cell_type": "code",
      "source": [
        "results_df_two = results.filterVertices(\"type = 'company'\").vertices.select(\"id\", \"pageranks\").orderBy(desc(col(\"pageranks\")))\n",
        "results_df_two.show()"
      ],
      "metadata": {
        "colab": {
          "base_uri": "https://localhost:8080/"
        },
        "id": "yHE3RuT73uwS",
        "outputId": "d337b7d4-c17e-45d1-dcdb-c0f6911bf503"
      },
      "execution_count": 100,
      "outputs": [
        {
          "output_type": "stream",
          "name": "stderr",
          "text": [
            "/usr/local/lib/python3.10/dist-packages/pyspark/sql/dataframe.py:148: UserWarning: DataFrame constructor is internal. Do not directly use it.\n",
            "  warnings.warn(\"DataFrame constructor is internal. Do not directly use it.\")\n",
            "/usr/local/lib/python3.10/dist-packages/pyspark/sql/dataframe.py:169: UserWarning: DataFrame.sql_ctx is an internal property, and will be removed in future releases. Use DataFrame.sparkSession instead.\n",
            "  warnings.warn(\n"
          ]
        },
        {
          "output_type": "stream",
          "name": "stdout",
          "text": [
            "+--------------------+--------------------+\n",
            "|                  id|           pageranks|\n",
            "+--------------------+--------------------+\n",
            "|        Del Taco LLC|(1,[0],[0.0021672...|\n",
            "|               Vibes|       (1,[0],[0.0])|\n",
            "|               Uline|       (1,[0],[0.0])|\n",
            "|Manhard Consultin...|       (1,[0],[0.0])|\n",
            "|             Kochava|       (1,[0],[0.0])|\n",
            "|GNC - General Nut...|       (1,[0],[0.0])|\n",
            "|     Security Vision|       (1,[0],[0.0])|\n",
            "|          Syncroness|       (1,[0],[0.0])|\n",
            "|       FutureSoft IT|       (1,[0],[0.0])|\n",
            "|                Lids|       (1,[0],[0.0])|\n",
            "|     GateHouse Media|       (1,[0],[0.0])|\n",
            "|       Point of Sale|       (1,[0],[0.0])|\n",
            "|         Mobile Labs|       (1,[0],[0.0])|\n",
            "|             JB Hunt|       (1,[0],[0.0])|\n",
            "|  PRG Real Estate PA|       (1,[0],[0.0])|\n",
            "|PNC Financial Ser...|       (1,[0],[0.0])|\n",
            "|              Clutch|       (1,[0],[0.0])|\n",
            "|              Tigera|       (1,[0],[0.0])|\n",
            "|         Net at Work|       (1,[0],[0.0])|\n",
            "|         Ulta Beauty|       (1,[0],[0.0])|\n",
            "+--------------------+--------------------+\n",
            "only showing top 20 rows\n",
            "\n"
          ]
        }
      ]
    },
    {
      "cell_type": "code",
      "source": [
        "results_df_three = results.filterVertices(\"type = 'title'\").vertices.select(\"id\", \"pageranks\").orderBy(desc(col(\"pageranks\")))\n",
        "results_df_three.show()"
      ],
      "metadata": {
        "colab": {
          "base_uri": "https://localhost:8080/"
        },
        "id": "S0xCxBM04B-u",
        "outputId": "18e00ff8-9807-4e21-fc25-1f01da8238ae"
      },
      "execution_count": 101,
      "outputs": [
        {
          "output_type": "stream",
          "name": "stderr",
          "text": [
            "/usr/local/lib/python3.10/dist-packages/pyspark/sql/dataframe.py:148: UserWarning: DataFrame constructor is internal. Do not directly use it.\n",
            "  warnings.warn(\"DataFrame constructor is internal. Do not directly use it.\")\n",
            "/usr/local/lib/python3.10/dist-packages/pyspark/sql/dataframe.py:169: UserWarning: DataFrame.sql_ctx is an internal property, and will be removed in future releases. Use DataFrame.sparkSession instead.\n",
            "  warnings.warn(\n"
          ]
        },
        {
          "output_type": "stream",
          "name": "stdout",
          "text": [
            "+--------------------+--------------------+\n",
            "|                  id|           pageranks|\n",
            "+--------------------+--------------------+\n",
            "|       Shift Manager|(1,[0],[0.0086690...|\n",
            "|      Demand Planner|       (1,[0],[0.0])|\n",
            "|Commercial Fire A...|       (1,[0],[0.0])|\n",
            "|Associate Softwar...|       (1,[0],[0.0])|\n",
            "|   Assistant Manager|       (1,[0],[0.0])|\n",
            "|Sr. Salesforce Admin|       (1,[0],[0.0])|\n",
            "|         IT Director|       (1,[0],[0.0])|\n",
            "|Manufacturing Con...|       (1,[0],[0.0])|\n",
            "|Executive - FP&A ...|       (1,[0],[0.0])|\n",
            "|Outside Sales Rep...|       (1,[0],[0.0])|\n",
            "|Senior Data Engin...|       (1,[0],[0.0])|\n",
            "|  Sr. Sales Engineer|       (1,[0],[0.0])|\n",
            "|Sales / Finance N...|       (1,[0],[0.0])|\n",
            "|Enterprise Accoun...|       (1,[0],[0.0])|\n",
            "|Sr Pricing Analys...|       (1,[0],[0.0])|\n",
            "|        Merchandiser|       (1,[0],[0.0])|\n",
            "|Prog Cost/Sched C...|       (1,[0],[0.0])|\n",
            "|Quant Specialist ...|       (1,[0],[0.0])|\n",
            "|Sales Account Exe...|       (1,[0],[0.0])|\n",
            "|  Management Trainee|       (1,[0],[0.0])|\n",
            "+--------------------+--------------------+\n",
            "only showing top 20 rows\n",
            "\n"
          ]
        }
      ]
    },
    {
      "cell_type": "code",
      "source": [
        "skills_list = []\n",
        "temp_skill_list = results_df.select('id').limit(5).collect()\n",
        "for element in temp_skill_list:\n",
        "  skills_list.append(element['id'])\n",
        "print(skills_list)"
      ],
      "metadata": {
        "colab": {
          "base_uri": "https://localhost:8080/"
        },
        "id": "bNhMiK3y33se",
        "outputId": "1eea13c6-816f-4f41-e6d0-09a1c98f90cf"
      },
      "execution_count": 104,
      "outputs": [
        {
          "output_type": "stream",
          "name": "stdout",
          "text": [
            "['guest', 'service', 'safety', 'Shift Manager', 'years']\n"
          ]
        }
      ]
    },
    {
      "cell_type": "code",
      "source": [
        "companies_list = []\n",
        "temp_company_list = results_df_two.select('id').limit(5).collect()\n",
        "for element in temp_company_list:\n",
        "  companies_list.append(element['id'])\n",
        "print(companies_list)"
      ],
      "metadata": {
        "colab": {
          "base_uri": "https://localhost:8080/"
        },
        "id": "Ri2cDapL60yc",
        "outputId": "aa42223a-0ff2-4578-f5db-7946b723b3ee"
      },
      "execution_count": 105,
      "outputs": [
        {
          "output_type": "stream",
          "name": "stdout",
          "text": [
            "['Del Taco LLC', 'Vibes', 'Uline', 'Manhard Consulting Ltd.', 'GNC - General Nutrition Centers']\n"
          ]
        }
      ]
    },
    {
      "cell_type": "code",
      "source": [
        "title_list = []\n",
        "temp_title_list = results_df_three.select('id').limit(5).collect()\n",
        "for element in temp_title_list:\n",
        "  title_list.append(element['id'])\n",
        "print(title_list)"
      ],
      "metadata": {
        "colab": {
          "base_uri": "https://localhost:8080/"
        },
        "id": "s8o3qcu862r2",
        "outputId": "cb1e5f30-9a85-49f3-f701-b8017bc1e486"
      },
      "execution_count": 106,
      "outputs": [
        {
          "output_type": "stream",
          "name": "stdout",
          "text": [
            "['Shift Manager', 'Demand Planner', 'Assistant Manager', 'Commercial Fire Alarm Sales Rep', 'IT Director']\n"
          ]
        }
      ]
    },
    {
      "cell_type": "code",
      "source": [
        "job_df = recommendation_jobs(skills_list,companies_list,title_list)\n",
        "job_df.createOrReplaceTempView('recommendations')\n",
        "job_recommendations = spark.sql(\"select a as job, count(a) as relevancy from recommendations group by job order by relevancy desc\")\n",
        "job_recommendations.show()"
      ],
      "metadata": {
        "colab": {
          "base_uri": "https://localhost:8080/"
        },
        "id": "TnceHkHa7jPc",
        "outputId": "e666ce30-b498-4d31-8dc3-24a6b3411a05"
      },
      "execution_count": 107,
      "outputs": [
        {
          "output_type": "stream",
          "name": "stderr",
          "text": [
            "/usr/local/lib/python3.10/dist-packages/pyspark/sql/dataframe.py:148: UserWarning: DataFrame constructor is internal. Do not directly use it.\n",
            "  warnings.warn(\"DataFrame constructor is internal. Do not directly use it.\")\n"
          ]
        },
        {
          "output_type": "stream",
          "name": "stdout",
          "text": [
            "+--------------------+---------+\n",
            "|                 job|relevancy|\n",
            "+--------------------+---------+\n",
            "|{511f9a53920f4641...|       23|\n",
            "|{227c0bf5a4c00c2b...|       21|\n",
            "|{2cad8c0d5f7ae7a7...|       10|\n",
            "|{51e36e93e9620948...|        6|\n",
            "|{331dfb2cdf3520de...|        5|\n",
            "|{15a97a3247e29997...|        4|\n",
            "|{3ef988bd769eaf9b...|        4|\n",
            "|{4e998e47943f4d11...|        4|\n",
            "|{372284928eafbe95...|        3|\n",
            "|{b6da78e866046f8e...|        3|\n",
            "|{0a97b373c8787c58...|        3|\n",
            "|{bb8e071ff810afe6...|        3|\n",
            "|{18882298e764a18a...|        3|\n",
            "|{2a75a6ac45a56fa9...|        3|\n",
            "|{09fe411a00ae4e5f...|        3|\n",
            "|{7bc20b14db460f92...|        2|\n",
            "|{6a309988055ccb45...|        2|\n",
            "|{b41420ab5260e465...|        2|\n",
            "|{219550967b49d887...|        2|\n",
            "|{428af962f7fdbaa1...|        2|\n",
            "+--------------------+---------+\n",
            "only showing top 20 rows\n",
            "\n"
          ]
        }
      ]
    }
  ],
  "metadata": {
    "colab": {
      "provenance": []
    },
    "kernelspec": {
      "display_name": "Python 3",
      "name": "python3"
    },
    "language_info": {
      "name": "python"
    }
  },
  "nbformat": 4,
  "nbformat_minor": 0
}